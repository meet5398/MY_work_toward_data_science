{
 "cells": [
  {
   "cell_type": "code",
   "execution_count": 1,
   "id": "4abbd739",
   "metadata": {},
   "outputs": [
    {
     "name": "stdout",
     "output_type": "stream",
     "text": [
      "12\n"
     ]
    }
   ],
   "source": [
    "a=[12,34,1,3,24,35]\n",
    "print(a[0])"
   ]
  },
  {
   "cell_type": "code",
   "execution_count": 2,
   "id": "4384625c",
   "metadata": {},
   "outputs": [
    {
     "name": "stdout",
     "output_type": "stream",
     "text": [
      "35\n"
     ]
    }
   ],
   "source": [
    "print(a[5])"
   ]
  },
  {
   "cell_type": "code",
   "execution_count": 4,
   "id": "01210c23",
   "metadata": {},
   "outputs": [
    {
     "name": "stdout",
     "output_type": "stream",
     "text": [
      "34\n",
      "12\n"
     ]
    }
   ],
   "source": [
    "print(a[-5])\n",
    "print(a[-6])"
   ]
  },
  {
   "cell_type": "code",
   "execution_count": 5,
   "id": "5b6725d0",
   "metadata": {},
   "outputs": [
    {
     "name": "stdout",
     "output_type": "stream",
     "text": [
      "[12, 34, 1, 3, 24, 35]\n"
     ]
    }
   ],
   "source": [
    "print(a)"
   ]
  },
  {
   "cell_type": "code",
   "execution_count": 26,
   "id": "a97332fd",
   "metadata": {},
   "outputs": [
    {
     "name": "stdout",
     "output_type": "stream",
     "text": [
      "['meet', 34, 454, False, 'meet']\n",
      "['meet', 98, 454, False, 'meet']\n"
     ]
    }
   ],
   "source": [
    "b=[\"meet\",34,454,False,'meet']\n",
    "print(b)\n",
    "b[1]=98\n",
    "print(b)"
   ]
  },
  {
   "cell_type": "code",
   "execution_count": 12,
   "id": "1a0e345f",
   "metadata": {},
   "outputs": [
    {
     "name": "stdout",
     "output_type": "stream",
     "text": [
      "['meet', 'raj', 'ronak', 'parth']\n",
      "['parth']\n",
      "['meet', 'raj', 'ronak', 'parth']\n",
      "['krisil']\n"
     ]
    }
   ],
   "source": [
    "friends=['meet','raj','ronak','parth','krisil']\n",
    "print(friends[0:4])\n",
    "print(friends[-2:4])\n",
    "print(friends[:4])\n",
    "print(friends[-1:])"
   ]
  },
  {
   "cell_type": "code",
   "execution_count": 14,
   "id": "e3a65bf8",
   "metadata": {},
   "outputs": [
    {
     "name": "stdout",
     "output_type": "stream",
     "text": [
      "[1, 12, 12, 23, 54, 76, 133, 342]\n"
     ]
    }
   ],
   "source": [
    "#sorting function of the list\n",
    "l1=[12,54,23,1,76,342,12,133]\n",
    "l1.sort()\n",
    "print(l1)"
   ]
  },
  {
   "cell_type": "code",
   "execution_count": 15,
   "id": "cb4401b3",
   "metadata": {},
   "outputs": [
    {
     "name": "stdout",
     "output_type": "stream",
     "text": [
      "[342, 133, 76, 54, 23, 12, 12, 1]\n"
     ]
    }
   ],
   "source": [
    "#reverse the  list \n",
    "l1.reverse()\n",
    "print(l1)"
   ]
  },
  {
   "cell_type": "code",
   "execution_count": 17,
   "id": "893c500d",
   "metadata": {},
   "outputs": [
    {
     "name": "stdout",
     "output_type": "stream",
     "text": [
      "[342, 133, 76, 54, 23, 12, 12, 1, 43, 43]\n"
     ]
    }
   ],
   "source": [
    "#append add value at the end of the list\n",
    "l1.append(43)\n",
    "print(l1)"
   ]
  },
  {
   "cell_type": "code",
   "execution_count": 18,
   "id": "0dd4e729",
   "metadata": {},
   "outputs": [
    {
     "name": "stdout",
     "output_type": "stream",
     "text": [
      "[12, 43, 234, 244, 2565, 100]\n"
     ]
    }
   ],
   "source": [
    "m=[12,43,234,244,2565]\n",
    "m.append(100)\n",
    "print(m)"
   ]
  },
  {
   "cell_type": "code",
   "execution_count": 20,
   "id": "2d4ab321",
   "metadata": {},
   "outputs": [
    {
     "name": "stdout",
     "output_type": "stream",
     "text": [
      "[12, 43, 234, 98, 98, 244, 2565, 100]\n"
     ]
    }
   ],
   "source": [
    "m.insert(3,98)#insert 98 at the index 3\n",
    "print(m)"
   ]
  },
  {
   "cell_type": "code",
   "execution_count": 23,
   "id": "7bfc895c",
   "metadata": {},
   "outputs": [
    {
     "name": "stdout",
     "output_type": "stream",
     "text": [
      "[23, 55, 2, 43, 23, 254, 556]\n"
     ]
    }
   ],
   "source": [
    "#pop\n",
    "m=[23,55,2,43,3435,23,254,556]\n",
    "m.pop(4)#will remove element at index 4\n",
    "print(m)"
   ]
  },
  {
   "cell_type": "code",
   "execution_count": 24,
   "id": "9521d842",
   "metadata": {},
   "outputs": [
    {
     "name": "stdout",
     "output_type": "stream",
     "text": [
      "[23, 55, 2, 23, 254, 556]\n"
     ]
    }
   ],
   "source": [
    "#remove\n",
    "m.remove(43)#will remove particular value directly without using indexing\n",
    "print(m)"
   ]
  },
  {
   "cell_type": "code",
   "execution_count": 25,
   "id": "8987b520",
   "metadata": {},
   "outputs": [],
   "source": [
    "#tuples\n",
    "#in tuple we can not update the value ,we can print the value\n",
    "#they are immutable(can not change)"
   ]
  },
  {
   "cell_type": "code",
   "execution_count": 27,
   "id": "677f757c",
   "metadata": {},
   "outputs": [
    {
     "name": "stdout",
     "output_type": "stream",
     "text": [
      "(1, 3, 4, 5, 6, 6, 7, 6)\n"
     ]
    }
   ],
   "source": [
    "a=(1,3,4,5,6,6,7,6)\n",
    "print(a)"
   ]
  },
  {
   "cell_type": "code",
   "execution_count": 29,
   "id": "5010923e",
   "metadata": {},
   "outputs": [
    {
     "name": "stdout",
     "output_type": "stream",
     "text": [
      "12\n"
     ]
    }
   ],
   "source": [
    "c=(12,)#this is tupple with one element can be printed\n",
    "#c=(12) this is wrong way to print tuple\n",
    "print(c)"
   ]
  },
  {
   "cell_type": "code",
   "execution_count": 31,
   "id": "1a85d0ee",
   "metadata": {},
   "outputs": [
    {
     "name": "stdout",
     "output_type": "stream",
     "text": [
      "3\n"
     ]
    }
   ],
   "source": [
    "print(a.count(6))"
   ]
  },
  {
   "cell_type": "code",
   "execution_count": 32,
   "id": "32061213",
   "metadata": {},
   "outputs": [
    {
     "name": "stdout",
     "output_type": "stream",
     "text": [
      "3\n"
     ]
    }
   ],
   "source": [
    "print(a.index(5))"
   ]
  },
  {
   "cell_type": "code",
   "execution_count": 33,
   "id": "02966f96",
   "metadata": {},
   "outputs": [],
   "source": [
    "#############practice set##################\n"
   ]
  },
  {
   "cell_type": "code",
   "execution_count": 34,
   "id": "597e0540",
   "metadata": {},
   "outputs": [
    {
     "name": "stdout",
     "output_type": "stream",
     "text": [
      "enter fruits number 1\n",
      "Noneapple\n",
      "enter fruits number 2\n",
      "Nonebanana\n",
      "enter fruits number 3\n",
      "Nonechichoo\n",
      "enter fruits number 4\n",
      "Nonepapaya\n",
      "enter fruits number 5\n",
      "Nonecoconut\n",
      "enter fruits number 6\n",
      "Noneorange\n",
      "enter fruits number 7\n",
      "Nonekiwi\n",
      "['apple', 'banana', 'chichoo', 'papaya', 'coconut', 'orange', 'kiwi']\n"
     ]
    }
   ],
   "source": [
    "f1=input(print(\"enter fruits number 1\"))\n",
    "f2=input(print(\"enter fruits number 2\"))\n",
    "f3=input(print(\"enter fruits number 3\"))\n",
    "f4=input(print(\"enter fruits number 4\"))\n",
    "f5=input(print(\"enter fruits number 5\"))\n",
    "f6=input(print(\"enter fruits number 6\"))\n",
    "f7=input(print(\"enter fruits number 7\"))\n",
    "my_fruit_list=[f1,f2,f3,f4,f5,f6,f7]\n",
    "print(my_fruit_list)"
   ]
  },
  {
   "cell_type": "code",
   "execution_count": null,
   "id": "7163825b",
   "metadata": {},
   "outputs": [],
   "source": []
  },
  {
   "cell_type": "code",
   "execution_count": 38,
   "id": "8765a183",
   "metadata": {},
   "outputs": [
    {
     "name": "stdout",
     "output_type": "stream",
     "text": [
      "enter marks of student number 1\n",
      "None12\n",
      "enter marks of student number 2\n",
      "None13\n",
      "enter marks of student number 3\n",
      "None34\n",
      "enter marks of student number 4\n",
      "None1\n",
      "enter marks of student number 5\n",
      "None43\n",
      "enter marks of student number 6\n",
      "None3\n",
      "enter marks of student number 7\n",
      "None5\n",
      "[12, 13, 34, 1, 43, 3, 5]\n",
      "[1, 3, 5, 12, 13, 34, 43]\n"
     ]
    }
   ],
   "source": [
    "s1=int(input(print(\"enter marks of student number 1\")))\n",
    "s2=int(input(print(\"enter marks of student number 2\")))\n",
    "s3=int(input(print(\"enter marks of student number 3\")))\n",
    "s4=int(input(print(\"enter marks of student number 4\")))\n",
    "s5=int(input(print(\"enter marks of student number 5\")))\n",
    "s6=int(input(print(\"enter marks of student number 6\")))\n",
    "s7=int(input(print(\"enter marks of student number 7\")))\n",
    "student=[s1,s2,s3,s4,s5,s6,s7]\n",
    "print(student)\n",
    "student.sort()\n",
    "print(student)"
   ]
  },
  {
   "cell_type": "markdown",
   "id": "1798b9ef",
   "metadata": {},
   "source": [
    "a=[1,3,4,4]\n",
    "print(a[0]+a[1]+a[2]+a[3])\n"
   ]
  },
  {
   "cell_type": "code",
   "execution_count": 41,
   "id": "846e42d3",
   "metadata": {},
   "outputs": [
    {
     "name": "stdout",
     "output_type": "stream",
     "text": [
      "12\n",
      "12\n"
     ]
    }
   ],
   "source": [
    "a=[1,3,4,4] \n",
    "print(a[0]+a[1]+a[2]+a[3])\n",
    "print(sum(a))#this is how you can print sum of all element of list very easily"
   ]
  },
  {
   "cell_type": "code",
   "execution_count": 42,
   "id": "6e357915",
   "metadata": {},
   "outputs": [
    {
     "name": "stdout",
     "output_type": "stream",
     "text": [
      "3\n"
     ]
    }
   ],
   "source": [
    "a=(7,0,8,0,0,9)\n",
    "print(a.count(0))"
   ]
  },
  {
   "cell_type": "code",
   "execution_count": null,
   "id": "7abe9165",
   "metadata": {},
   "outputs": [],
   "source": []
  }
 ],
 "metadata": {
  "kernelspec": {
   "display_name": "Python 3 (ipykernel)",
   "language": "python",
   "name": "python3"
  },
  "language_info": {
   "codemirror_mode": {
    "name": "ipython",
    "version": 3
   },
   "file_extension": ".py",
   "mimetype": "text/x-python",
   "name": "python",
   "nbconvert_exporter": "python",
   "pygments_lexer": "ipython3",
   "version": "3.9.12"
  }
 },
 "nbformat": 4,
 "nbformat_minor": 5
}
