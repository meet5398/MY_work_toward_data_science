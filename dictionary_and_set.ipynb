{
 "cells": [
  {
   "cell_type": "code",
   "execution_count": 14,
   "id": "00e1ddb9",
   "metadata": {},
   "outputs": [
    {
     "name": "stdout",
     "output_type": "stream",
     "text": [
      "very  quick\n",
      "basketballer\n",
      "[34, 43, 23, 534]\n",
      "player\n",
      "[1222, 444]\n"
     ]
    }
   ],
   "source": [
    "#dictionary\n",
    "my_dict={\n",
    "    \"fast\" : \"very  quick\",\n",
    "    \"meet\" : \"basketballer\",\n",
    "    \"marks\":[34,43,23,534],\n",
    "    \"another\":{'harsh':'player'}\n",
    "}\n",
    "print(my_dict['fast'])\n",
    "print(my_dict[\"meet\"])\n",
    "print(my_dict[\"marks\"])\n",
    "print(my_dict[\"another\"]['harsh'])\n",
    "my_dict['marks']=[1222,444]#we can change the value inside dictinary\n",
    "print(my_dict[\"marks\"])"
   ]
  },
  {
   "cell_type": "code",
   "execution_count": null,
   "id": "e79cc851",
   "metadata": {},
   "outputs": [],
   "source": [
    "#properties\n",
    "#it is mutable\n",
    "#it is indexed\n",
    "#it is unordered\n",
    "#cannot contain duplicate key"
   ]
  },
  {
   "cell_type": "code",
   "execution_count": 11,
   "id": "4a00a3ee",
   "metadata": {},
   "outputs": [
    {
     "ename": "NameError",
     "evalue": "name 'mydict' is not defined",
     "output_type": "error",
     "traceback": [
      "\u001b[1;31m---------------------------------------------------------------------------\u001b[0m",
      "\u001b[1;31mNameError\u001b[0m                                 Traceback (most recent call last)",
      "\u001b[1;32m~\\AppData\\Local\\Temp/ipykernel_11740/3798064746.py\u001b[0m in \u001b[0;36m<module>\u001b[1;34m\u001b[0m\n\u001b[1;32m----> 1\u001b[1;33m \u001b[0mmydict\u001b[0m\u001b[1;33m[\u001b[0m\u001b[1;34m'marks'\u001b[0m\u001b[1;33m]\u001b[0m\u001b[1;33m=\u001b[0m\u001b[1;33m[\u001b[0m\u001b[1;36m1222\u001b[0m\u001b[1;33m,\u001b[0m\u001b[1;36m444\u001b[0m\u001b[1;33m]\u001b[0m\u001b[1;33m\u001b[0m\u001b[1;33m\u001b[0m\u001b[0m\n\u001b[0m\u001b[0;32m      2\u001b[0m \u001b[0mprint\u001b[0m\u001b[1;33m(\u001b[0m\u001b[0mmy_dict\u001b[0m\u001b[1;33m[\u001b[0m\u001b[1;34m\"marks\"\u001b[0m\u001b[1;33m]\u001b[0m\u001b[1;33m)\u001b[0m\u001b[1;33m\u001b[0m\u001b[1;33m\u001b[0m\u001b[0m\n",
      "\u001b[1;31mNameError\u001b[0m: name 'mydict' is not defined"
     ]
    }
   ],
   "source": [
    "mydict['marks']=[1222,444]\n",
    "print(my_dict[\"marks\"])"
   ]
  },
  {
   "cell_type": "code",
   "execution_count": 15,
   "id": "3d2624f3",
   "metadata": {},
   "outputs": [
    {
     "name": "stdout",
     "output_type": "stream",
     "text": [
      "dict_keys(['fast', 'meet', 'marks', 'another'])\n"
     ]
    }
   ],
   "source": [
    "print(my_dict.keys())#use to print leys of dictinary"
   ]
  },
  {
   "cell_type": "code",
   "execution_count": 16,
   "id": "e288dc07",
   "metadata": {},
   "outputs": [
    {
     "name": "stdout",
     "output_type": "stream",
     "text": [
      "dict_values(['very  quick', 'basketballer', [1222, 444], {'harsh': 'player'}])\n"
     ]
    }
   ],
   "source": [
    "print(my_dict.values())#print alll values"
   ]
  },
  {
   "cell_type": "code",
   "execution_count": 17,
   "id": "c3344cf3",
   "metadata": {},
   "outputs": [
    {
     "name": "stdout",
     "output_type": "stream",
     "text": [
      "dict_items([('fast', 'very  quick'), ('meet', 'basketballer'), ('marks', [1222, 444]), ('another', {'harsh': 'player'})])\n"
     ]
    }
   ],
   "source": [
    "print(my_dict.items())#print the ((key,value)) of dictionary"
   ]
  },
  {
   "cell_type": "code",
   "execution_count": 20,
   "id": "dd340ff7",
   "metadata": {},
   "outputs": [
    {
     "name": "stdout",
     "output_type": "stream",
     "text": [
      "{'fast': 'very  quick', 'meet': 'basketballer', 'marks': [1222, 444], 'another': {'harsh': 'player'}, 'ronak': 'coder', 'parth': 'cricketer', 'sahil': 'footballer'}\n"
     ]
    }
   ],
   "source": [
    "update_dict={\n",
    "    \"ronak\": \"coder\",\n",
    "    \"parth\":\"cricketer\",\n",
    "    \"sahil\":\"footballer\"\n",
    "}\n",
    "my_dict.update(update_dict)\n",
    "print(my_dict)"
   ]
  },
  {
   "cell_type": "code",
   "execution_count": 25,
   "id": "92972b41",
   "metadata": {},
   "outputs": [
    {
     "name": "stdout",
     "output_type": "stream",
     "text": [
      "None\n"
     ]
    }
   ],
   "source": [
    "#print(my_dict['ronak2'])#it will show error\n",
    "print(my_dict.get('ronak2'))#it will return null value "
   ]
  },
  {
   "cell_type": "code",
   "execution_count": null,
   "id": "2bb322ce",
   "metadata": {},
   "outputs": [],
   "source": [
    " ###set#####it is collection of non repetive value"
   ]
  },
  {
   "cell_type": "code",
   "execution_count": 26,
   "id": "ec670639",
   "metadata": {},
   "outputs": [
    {
     "name": "stdout",
     "output_type": "stream",
     "text": [
      "{1, 2, 3, 4}\n"
     ]
    }
   ],
   "source": [
    "a={1,2,3,4}\n",
    "print(a)"
   ]
  },
  {
   "cell_type": "code",
   "execution_count": 27,
   "id": "3823ebaa",
   "metadata": {},
   "outputs": [
    {
     "name": "stdout",
     "output_type": "stream",
     "text": [
      "<class 'set'>\n"
     ]
    }
   ],
   "source": [
    "print(type(a))"
   ]
  },
  {
   "cell_type": "code",
   "execution_count": 28,
   "id": "ae6d6cf2",
   "metadata": {},
   "outputs": [
    {
     "name": "stdout",
     "output_type": "stream",
     "text": [
      "{1, 2, 3, 4, 5, 6, 7}\n"
     ]
    }
   ],
   "source": [
    "#there is no repetive item in set\n",
    "a={1,2,3,4,3,5,6,7,6}\n",
    "print(a)"
   ]
  },
  {
   "cell_type": "code",
   "execution_count": 29,
   "id": "a5ff06cd",
   "metadata": {},
   "outputs": [
    {
     "name": "stdout",
     "output_type": "stream",
     "text": [
      "<class 'set'>\n"
     ]
    }
   ],
   "source": [
    "#this will create empty dictinary not empty set\n",
    "#a={}\n",
    "b=set()#this is empty set\n",
    "print(type(a))"
   ]
  },
  {
   "cell_type": "code",
   "execution_count": 32,
   "id": "2373c1c5",
   "metadata": {},
   "outputs": [
    {
     "name": "stdout",
     "output_type": "stream",
     "text": [
      "{4, 5, 6, 7, (4, 5, 6)}\n"
     ]
    }
   ],
   "source": [
    "b.add(4)\n",
    "b.add(5)\n",
    "b.add(4)\n",
    "b.add(6)\n",
    "b.add(7)\n",
    "b.add(5)\n",
    "b.add((4,5,6))\n",
    "print(b)"
   ]
  },
  {
   "cell_type": "code",
   "execution_count": 31,
   "id": "205aa9f7",
   "metadata": {},
   "outputs": [],
   "source": [
    "#we can not add list in set \n",
    "#we  can notadd dictinary in set \n",
    "#because above can be change that's why we can not add\n",
    "#sets are unordered\n",
    "#sets are unindexed\n",
    "#there is no way to change set\n",
    "#sets can not contain dublicate value\n",
    "#we can add tuple inside it"
   ]
  },
  {
   "cell_type": "code",
   "execution_count": 33,
   "id": "264adb24",
   "metadata": {},
   "outputs": [
    {
     "name": "stdout",
     "output_type": "stream",
     "text": [
      "5\n"
     ]
    }
   ],
   "source": [
    "print(len(b))#length of the set"
   ]
  },
  {
   "cell_type": "code",
   "execution_count": 34,
   "id": "1e4a5aca",
   "metadata": {},
   "outputs": [
    {
     "name": "stdout",
     "output_type": "stream",
     "text": [
      "{5, 6, 7, (4, 5, 6)}\n"
     ]
    }
   ],
   "source": [
    "b.remove(4)\n",
    "print(b)"
   ]
  },
  {
   "cell_type": "code",
   "execution_count": 35,
   "id": "2b504e80",
   "metadata": {},
   "outputs": [
    {
     "name": "stdout",
     "output_type": "stream",
     "text": [
      "5\n"
     ]
    }
   ],
   "source": [
    "print(b.pop())"
   ]
  },
  {
   "cell_type": "code",
   "execution_count": 37,
   "id": "148c387f",
   "metadata": {},
   "outputs": [
    {
     "name": "stdout",
     "output_type": "stream",
     "text": [
      "set()\n"
     ]
    }
   ],
   "source": [
    "b.clear()#it will empty the set\n",
    "print(b)"
   ]
  },
  {
   "cell_type": "code",
   "execution_count": 38,
   "id": "c3977c8a",
   "metadata": {},
   "outputs": [],
   "source": [
    "c  = (12,32,45,6,4,2,78)\n",
    "d  = (6,4,2,98,66,1,56,70)"
   ]
  },
  {
   "cell_type": "code",
   "execution_count": null,
   "id": "f3a9e0d6",
   "metadata": {},
   "outputs": [],
   "source": [
    "#################practice_set#########"
   ]
  },
  {
   "cell_type": "code",
   "execution_count": 2,
   "id": "74a4f28d",
   "metadata": {},
   "outputs": [
    {
     "name": "stdout",
     "output_type": "stream",
     "text": [
      "dict_keys(['aam', 'fal', 'raja', 'abhineta'])\n",
      "enter hindi word from above :aam\n",
      "the english meaning of your word is  mango\n"
     ]
    }
   ],
   "source": [
    "dic={\n",
    "    \"aam\":\"mango\",\n",
    "    \"fal\":\"fruit\",\n",
    "    \"raja\":\"king\",\n",
    "    \"abhineta\":\"actor\"\n",
    "}\n",
    "print(dic.keys())\n",
    "a=input(\"enter hindi word from above :\")\n",
    "#print(\"the english meaning of your word is \",dic[a])\n",
    "#if there is no key match found then below line will not throw error\n",
    "print(\"the english meaning of your word is \",dic.get(a))"
   ]
  },
  {
   "cell_type": "markdown",
   "id": "072e8158",
   "metadata": {},
   "source": [
    "n1=int(input(\"enter no 1\"))\n",
    "n2=int(input(\"enter no 2\"))\n",
    "n3=int(input(\"enter no 3\"))\n",
    "n4=int(input(\"enter no 4\"))\n",
    "n5=int(input(\"enter no 5\"))\n",
    "n6=int(input(\"enter no 6\"))\n",
    "n7=int(input(\"enter no 7\"))\n",
    "n8=int(input(\"enter no 8\"))\n",
    "n9=int(input(\"enter no 9\"))\n",
    "s=(n1,n2,n3,n4,n5,n6,n7,n8,n9)"
   ]
  },
  {
   "cell_type": "code",
   "execution_count": 3,
   "id": "7aede069",
   "metadata": {},
   "outputs": [
    {
     "name": "stdout",
     "output_type": "stream",
     "text": [
      "{18, '18'}\n"
     ]
    }
   ],
   "source": [
    "s={18,\"18\"}\n",
    "print(s)"
   ]
  },
  {
   "cell_type": "code",
   "execution_count": 4,
   "id": "e9a59077",
   "metadata": {},
   "outputs": [
    {
     "name": "stdout",
     "output_type": "stream",
     "text": [
      "enter your favourite meetjava\n",
      "enter your favourite ronakc\n",
      "enter your favourite krishc++\n",
      "enter your favourite rohanjava\n",
      "{'meet': 'java', 'ronak': 'c', 'krish': 'c++', 'rohan': 'java'}\n"
     ]
    }
   ],
   "source": [
    "fav={}\n",
    "a=input(\"enter your favourite meet\")\n",
    "b=input(\"enter your favourite ronak\")\n",
    "c= input(\"enter your favourite krish\")\n",
    "d= input(\"enter your favourite rohan\")\n",
    "fav[\"meet\"]=a\n",
    "fav[\"ronak\"]=b\n",
    "fav[\"krish\"]=c\n",
    "fav[\"rohan\"]=d\n",
    "print(fav)\n"
   ]
  },
  {
   "cell_type": "code",
   "execution_count": null,
   "id": "484a2140",
   "metadata": {},
   "outputs": [],
   "source": []
  }
 ],
 "metadata": {
  "kernelspec": {
   "display_name": "Python 3 (ipykernel)",
   "language": "python",
   "name": "python3"
  },
  "language_info": {
   "codemirror_mode": {
    "name": "ipython",
    "version": 3
   },
   "file_extension": ".py",
   "mimetype": "text/x-python",
   "name": "python",
   "nbconvert_exporter": "python",
   "pygments_lexer": "ipython3",
   "version": "3.9.12"
  }
 },
 "nbformat": 4,
 "nbformat_minor": 5
}
