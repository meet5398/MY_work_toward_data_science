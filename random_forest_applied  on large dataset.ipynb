{
 "cells": [
  {
   "cell_type": "code",
   "execution_count": 1,
   "id": "f6d83883",
   "metadata": {},
   "outputs": [],
   "source": [
    "import numpy as np"
   ]
  },
  {
   "cell_type": "code",
   "execution_count": 2,
   "id": "a505d053",
   "metadata": {},
   "outputs": [],
   "source": [
    "import pandas as pd"
   ]
  },
  {
   "cell_type": "code",
   "execution_count": 3,
   "id": "bd276a7f",
   "metadata": {},
   "outputs": [],
   "source": [
    "dataset=pd.read_csv('M:/sem 5/de/titles.csv')"
   ]
  },
  {
   "cell_type": "code",
   "execution_count": 4,
   "id": "6501f287",
   "metadata": {},
   "outputs": [
    {
     "data": {
      "text/html": [
       "<div>\n",
       "<style scoped>\n",
       "    .dataframe tbody tr th:only-of-type {\n",
       "        vertical-align: middle;\n",
       "    }\n",
       "\n",
       "    .dataframe tbody tr th {\n",
       "        vertical-align: top;\n",
       "    }\n",
       "\n",
       "    .dataframe thead th {\n",
       "        text-align: right;\n",
       "    }\n",
       "</style>\n",
       "<table border=\"1\" class=\"dataframe\">\n",
       "  <thead>\n",
       "    <tr style=\"text-align: right;\">\n",
       "      <th></th>\n",
       "      <th>id</th>\n",
       "      <th>title</th>\n",
       "      <th>type</th>\n",
       "      <th>description</th>\n",
       "      <th>release_year</th>\n",
       "      <th>age_certification</th>\n",
       "      <th>runtime</th>\n",
       "      <th>genres</th>\n",
       "      <th>production_countries</th>\n",
       "      <th>seasons</th>\n",
       "      <th>imdb_id</th>\n",
       "      <th>imdb_score</th>\n",
       "      <th>imdb_votes</th>\n",
       "      <th>tmdb_popularity</th>\n",
       "      <th>tmdb_score</th>\n",
       "    </tr>\n",
       "  </thead>\n",
       "  <tbody>\n",
       "    <tr>\n",
       "      <th>0</th>\n",
       "      <td>ts300399</td>\n",
       "      <td>Five Came Back: The Reference Films</td>\n",
       "      <td>SHOW</td>\n",
       "      <td>This collection includes 12 World War II-era p...</td>\n",
       "      <td>1945</td>\n",
       "      <td>TV-MA</td>\n",
       "      <td>48</td>\n",
       "      <td>['documentation']</td>\n",
       "      <td>['US']</td>\n",
       "      <td>1.0</td>\n",
       "      <td>NaN</td>\n",
       "      <td>NaN</td>\n",
       "      <td>NaN</td>\n",
       "      <td>0.600</td>\n",
       "      <td>NaN</td>\n",
       "    </tr>\n",
       "    <tr>\n",
       "      <th>1</th>\n",
       "      <td>tm84618</td>\n",
       "      <td>Taxi Driver</td>\n",
       "      <td>MOVIE</td>\n",
       "      <td>A mentally unstable Vietnam War veteran works ...</td>\n",
       "      <td>1976</td>\n",
       "      <td>R</td>\n",
       "      <td>113</td>\n",
       "      <td>['crime', 'drama']</td>\n",
       "      <td>['US']</td>\n",
       "      <td>NaN</td>\n",
       "      <td>tt0075314</td>\n",
       "      <td>8.3</td>\n",
       "      <td>795222.0</td>\n",
       "      <td>27.612</td>\n",
       "      <td>8.2</td>\n",
       "    </tr>\n",
       "    <tr>\n",
       "      <th>2</th>\n",
       "      <td>tm127384</td>\n",
       "      <td>Monty Python and the Holy Grail</td>\n",
       "      <td>MOVIE</td>\n",
       "      <td>King Arthur, accompanied by his squire, recrui...</td>\n",
       "      <td>1975</td>\n",
       "      <td>PG</td>\n",
       "      <td>91</td>\n",
       "      <td>['comedy', 'fantasy']</td>\n",
       "      <td>['GB']</td>\n",
       "      <td>NaN</td>\n",
       "      <td>tt0071853</td>\n",
       "      <td>8.2</td>\n",
       "      <td>530877.0</td>\n",
       "      <td>18.216</td>\n",
       "      <td>7.8</td>\n",
       "    </tr>\n",
       "    <tr>\n",
       "      <th>3</th>\n",
       "      <td>tm70993</td>\n",
       "      <td>Life of Brian</td>\n",
       "      <td>MOVIE</td>\n",
       "      <td>Brian Cohen is an average young Jewish man, bu...</td>\n",
       "      <td>1979</td>\n",
       "      <td>R</td>\n",
       "      <td>94</td>\n",
       "      <td>['comedy']</td>\n",
       "      <td>['GB']</td>\n",
       "      <td>NaN</td>\n",
       "      <td>tt0079470</td>\n",
       "      <td>8.0</td>\n",
       "      <td>392419.0</td>\n",
       "      <td>17.505</td>\n",
       "      <td>7.8</td>\n",
       "    </tr>\n",
       "    <tr>\n",
       "      <th>4</th>\n",
       "      <td>tm190788</td>\n",
       "      <td>The Exorcist</td>\n",
       "      <td>MOVIE</td>\n",
       "      <td>12-year-old Regan MacNeil begins to adapt an e...</td>\n",
       "      <td>1973</td>\n",
       "      <td>R</td>\n",
       "      <td>133</td>\n",
       "      <td>['horror']</td>\n",
       "      <td>['US']</td>\n",
       "      <td>NaN</td>\n",
       "      <td>tt0070047</td>\n",
       "      <td>8.1</td>\n",
       "      <td>391942.0</td>\n",
       "      <td>95.337</td>\n",
       "      <td>7.7</td>\n",
       "    </tr>\n",
       "  </tbody>\n",
       "</table>\n",
       "</div>"
      ],
      "text/plain": [
       "         id                                title   type  \\\n",
       "0  ts300399  Five Came Back: The Reference Films   SHOW   \n",
       "1   tm84618                          Taxi Driver  MOVIE   \n",
       "2  tm127384      Monty Python and the Holy Grail  MOVIE   \n",
       "3   tm70993                        Life of Brian  MOVIE   \n",
       "4  tm190788                         The Exorcist  MOVIE   \n",
       "\n",
       "                                         description  release_year  \\\n",
       "0  This collection includes 12 World War II-era p...          1945   \n",
       "1  A mentally unstable Vietnam War veteran works ...          1976   \n",
       "2  King Arthur, accompanied by his squire, recrui...          1975   \n",
       "3  Brian Cohen is an average young Jewish man, bu...          1979   \n",
       "4  12-year-old Regan MacNeil begins to adapt an e...          1973   \n",
       "\n",
       "  age_certification  runtime                 genres production_countries  \\\n",
       "0             TV-MA       48      ['documentation']               ['US']   \n",
       "1                 R      113     ['crime', 'drama']               ['US']   \n",
       "2                PG       91  ['comedy', 'fantasy']               ['GB']   \n",
       "3                 R       94             ['comedy']               ['GB']   \n",
       "4                 R      133             ['horror']               ['US']   \n",
       "\n",
       "   seasons    imdb_id  imdb_score  imdb_votes  tmdb_popularity  tmdb_score  \n",
       "0      1.0        NaN         NaN         NaN            0.600         NaN  \n",
       "1      NaN  tt0075314         8.3    795222.0           27.612         8.2  \n",
       "2      NaN  tt0071853         8.2    530877.0           18.216         7.8  \n",
       "3      NaN  tt0079470         8.0    392419.0           17.505         7.8  \n",
       "4      NaN  tt0070047         8.1    391942.0           95.337         7.7  "
      ]
     },
     "execution_count": 4,
     "metadata": {},
     "output_type": "execute_result"
    }
   ],
   "source": [
    "dataset.head()"
   ]
  },
  {
   "cell_type": "code",
   "execution_count": 5,
   "id": "83b5df22",
   "metadata": {},
   "outputs": [],
   "source": [
    "dataset=dataset.drop(columns='seasons')"
   ]
  },
  {
   "cell_type": "code",
   "execution_count": 6,
   "id": "cf4e279e",
   "metadata": {},
   "outputs": [],
   "source": [
    "dataset=dataset.drop(columns='description')"
   ]
  },
  {
   "cell_type": "code",
   "execution_count": 7,
   "id": "eeeb333f",
   "metadata": {},
   "outputs": [],
   "source": [
    "dataset=dataset.drop(columns='imdb_id')"
   ]
  },
  {
   "cell_type": "code",
   "execution_count": 8,
   "id": "bd95e143",
   "metadata": {},
   "outputs": [],
   "source": [
    "dataset=dataset.drop(columns='id')"
   ]
  },
  {
   "cell_type": "code",
   "execution_count": 9,
   "id": "1c7a6b9d",
   "metadata": {},
   "outputs": [
    {
     "data": {
      "text/html": [
       "<div>\n",
       "<style scoped>\n",
       "    .dataframe tbody tr th:only-of-type {\n",
       "        vertical-align: middle;\n",
       "    }\n",
       "\n",
       "    .dataframe tbody tr th {\n",
       "        vertical-align: top;\n",
       "    }\n",
       "\n",
       "    .dataframe thead th {\n",
       "        text-align: right;\n",
       "    }\n",
       "</style>\n",
       "<table border=\"1\" class=\"dataframe\">\n",
       "  <thead>\n",
       "    <tr style=\"text-align: right;\">\n",
       "      <th></th>\n",
       "      <th>title</th>\n",
       "      <th>type</th>\n",
       "      <th>release_year</th>\n",
       "      <th>age_certification</th>\n",
       "      <th>runtime</th>\n",
       "      <th>genres</th>\n",
       "      <th>production_countries</th>\n",
       "      <th>imdb_score</th>\n",
       "      <th>imdb_votes</th>\n",
       "      <th>tmdb_popularity</th>\n",
       "      <th>tmdb_score</th>\n",
       "    </tr>\n",
       "  </thead>\n",
       "  <tbody>\n",
       "    <tr>\n",
       "      <th>0</th>\n",
       "      <td>Five Came Back: The Reference Films</td>\n",
       "      <td>SHOW</td>\n",
       "      <td>1945</td>\n",
       "      <td>TV-MA</td>\n",
       "      <td>48</td>\n",
       "      <td>['documentation']</td>\n",
       "      <td>['US']</td>\n",
       "      <td>NaN</td>\n",
       "      <td>NaN</td>\n",
       "      <td>0.600</td>\n",
       "      <td>NaN</td>\n",
       "    </tr>\n",
       "    <tr>\n",
       "      <th>1</th>\n",
       "      <td>Taxi Driver</td>\n",
       "      <td>MOVIE</td>\n",
       "      <td>1976</td>\n",
       "      <td>R</td>\n",
       "      <td>113</td>\n",
       "      <td>['crime', 'drama']</td>\n",
       "      <td>['US']</td>\n",
       "      <td>8.3</td>\n",
       "      <td>795222.0</td>\n",
       "      <td>27.612</td>\n",
       "      <td>8.2</td>\n",
       "    </tr>\n",
       "    <tr>\n",
       "      <th>2</th>\n",
       "      <td>Monty Python and the Holy Grail</td>\n",
       "      <td>MOVIE</td>\n",
       "      <td>1975</td>\n",
       "      <td>PG</td>\n",
       "      <td>91</td>\n",
       "      <td>['comedy', 'fantasy']</td>\n",
       "      <td>['GB']</td>\n",
       "      <td>8.2</td>\n",
       "      <td>530877.0</td>\n",
       "      <td>18.216</td>\n",
       "      <td>7.8</td>\n",
       "    </tr>\n",
       "    <tr>\n",
       "      <th>3</th>\n",
       "      <td>Life of Brian</td>\n",
       "      <td>MOVIE</td>\n",
       "      <td>1979</td>\n",
       "      <td>R</td>\n",
       "      <td>94</td>\n",
       "      <td>['comedy']</td>\n",
       "      <td>['GB']</td>\n",
       "      <td>8.0</td>\n",
       "      <td>392419.0</td>\n",
       "      <td>17.505</td>\n",
       "      <td>7.8</td>\n",
       "    </tr>\n",
       "    <tr>\n",
       "      <th>4</th>\n",
       "      <td>The Exorcist</td>\n",
       "      <td>MOVIE</td>\n",
       "      <td>1973</td>\n",
       "      <td>R</td>\n",
       "      <td>133</td>\n",
       "      <td>['horror']</td>\n",
       "      <td>['US']</td>\n",
       "      <td>8.1</td>\n",
       "      <td>391942.0</td>\n",
       "      <td>95.337</td>\n",
       "      <td>7.7</td>\n",
       "    </tr>\n",
       "    <tr>\n",
       "      <th>...</th>\n",
       "      <td>...</td>\n",
       "      <td>...</td>\n",
       "      <td>...</td>\n",
       "      <td>...</td>\n",
       "      <td>...</td>\n",
       "      <td>...</td>\n",
       "      <td>...</td>\n",
       "      <td>...</td>\n",
       "      <td>...</td>\n",
       "      <td>...</td>\n",
       "      <td>...</td>\n",
       "    </tr>\n",
       "    <tr>\n",
       "      <th>5801</th>\n",
       "      <td>Fine Wine</td>\n",
       "      <td>MOVIE</td>\n",
       "      <td>2021</td>\n",
       "      <td>NaN</td>\n",
       "      <td>100</td>\n",
       "      <td>['romance', 'drama']</td>\n",
       "      <td>['NG']</td>\n",
       "      <td>6.9</td>\n",
       "      <td>39.0</td>\n",
       "      <td>0.966</td>\n",
       "      <td>NaN</td>\n",
       "    </tr>\n",
       "    <tr>\n",
       "      <th>5802</th>\n",
       "      <td>Edis Starlight</td>\n",
       "      <td>MOVIE</td>\n",
       "      <td>2021</td>\n",
       "      <td>NaN</td>\n",
       "      <td>74</td>\n",
       "      <td>['music', 'documentation']</td>\n",
       "      <td>[]</td>\n",
       "      <td>NaN</td>\n",
       "      <td>NaN</td>\n",
       "      <td>1.036</td>\n",
       "      <td>8.5</td>\n",
       "    </tr>\n",
       "    <tr>\n",
       "      <th>5803</th>\n",
       "      <td>Clash</td>\n",
       "      <td>MOVIE</td>\n",
       "      <td>2021</td>\n",
       "      <td>NaN</td>\n",
       "      <td>88</td>\n",
       "      <td>['family', 'drama']</td>\n",
       "      <td>['NG', 'CA']</td>\n",
       "      <td>6.5</td>\n",
       "      <td>32.0</td>\n",
       "      <td>0.709</td>\n",
       "      <td>NaN</td>\n",
       "    </tr>\n",
       "    <tr>\n",
       "      <th>5804</th>\n",
       "      <td>Shadow Parties</td>\n",
       "      <td>MOVIE</td>\n",
       "      <td>2021</td>\n",
       "      <td>NaN</td>\n",
       "      <td>116</td>\n",
       "      <td>['action', 'thriller']</td>\n",
       "      <td>[]</td>\n",
       "      <td>6.2</td>\n",
       "      <td>9.0</td>\n",
       "      <td>2.186</td>\n",
       "      <td>NaN</td>\n",
       "    </tr>\n",
       "    <tr>\n",
       "      <th>5805</th>\n",
       "      <td>Mighty Little Bheem: Kite Festival</td>\n",
       "      <td>SHOW</td>\n",
       "      <td>2021</td>\n",
       "      <td>NaN</td>\n",
       "      <td>0</td>\n",
       "      <td>['family', 'comedy', 'animation']</td>\n",
       "      <td>[]</td>\n",
       "      <td>8.8</td>\n",
       "      <td>16.0</td>\n",
       "      <td>0.979</td>\n",
       "      <td>10.0</td>\n",
       "    </tr>\n",
       "  </tbody>\n",
       "</table>\n",
       "<p>5806 rows × 11 columns</p>\n",
       "</div>"
      ],
      "text/plain": [
       "                                    title   type  release_year  \\\n",
       "0     Five Came Back: The Reference Films   SHOW          1945   \n",
       "1                             Taxi Driver  MOVIE          1976   \n",
       "2         Monty Python and the Holy Grail  MOVIE          1975   \n",
       "3                           Life of Brian  MOVIE          1979   \n",
       "4                            The Exorcist  MOVIE          1973   \n",
       "...                                   ...    ...           ...   \n",
       "5801                            Fine Wine  MOVIE          2021   \n",
       "5802                       Edis Starlight  MOVIE          2021   \n",
       "5803                                Clash  MOVIE          2021   \n",
       "5804                       Shadow Parties  MOVIE          2021   \n",
       "5805   Mighty Little Bheem: Kite Festival   SHOW          2021   \n",
       "\n",
       "     age_certification  runtime                             genres  \\\n",
       "0                TV-MA       48                  ['documentation']   \n",
       "1                    R      113                 ['crime', 'drama']   \n",
       "2                   PG       91              ['comedy', 'fantasy']   \n",
       "3                    R       94                         ['comedy']   \n",
       "4                    R      133                         ['horror']   \n",
       "...                ...      ...                                ...   \n",
       "5801               NaN      100               ['romance', 'drama']   \n",
       "5802               NaN       74         ['music', 'documentation']   \n",
       "5803               NaN       88                ['family', 'drama']   \n",
       "5804               NaN      116             ['action', 'thriller']   \n",
       "5805               NaN        0  ['family', 'comedy', 'animation']   \n",
       "\n",
       "     production_countries  imdb_score  imdb_votes  tmdb_popularity  tmdb_score  \n",
       "0                  ['US']         NaN         NaN            0.600         NaN  \n",
       "1                  ['US']         8.3    795222.0           27.612         8.2  \n",
       "2                  ['GB']         8.2    530877.0           18.216         7.8  \n",
       "3                  ['GB']         8.0    392419.0           17.505         7.8  \n",
       "4                  ['US']         8.1    391942.0           95.337         7.7  \n",
       "...                   ...         ...         ...              ...         ...  \n",
       "5801               ['NG']         6.9        39.0            0.966         NaN  \n",
       "5802                   []         NaN         NaN            1.036         8.5  \n",
       "5803         ['NG', 'CA']         6.5        32.0            0.709         NaN  \n",
       "5804                   []         6.2         9.0            2.186         NaN  \n",
       "5805                   []         8.8        16.0            0.979        10.0  \n",
       "\n",
       "[5806 rows x 11 columns]"
      ]
     },
     "execution_count": 9,
     "metadata": {},
     "output_type": "execute_result"
    }
   ],
   "source": [
    "dataset"
   ]
  },
  {
   "cell_type": "code",
   "execution_count": 10,
   "id": "3c174a87",
   "metadata": {},
   "outputs": [],
   "source": [
    "dataset=dataset.replace(to_replace=\"[]\",value=np.nan)\n",
    "\n"
   ]
  },
  {
   "cell_type": "code",
   "execution_count": 11,
   "id": "f61b231c",
   "metadata": {},
   "outputs": [
    {
     "data": {
      "text/html": [
       "<div>\n",
       "<style scoped>\n",
       "    .dataframe tbody tr th:only-of-type {\n",
       "        vertical-align: middle;\n",
       "    }\n",
       "\n",
       "    .dataframe tbody tr th {\n",
       "        vertical-align: top;\n",
       "    }\n",
       "\n",
       "    .dataframe thead th {\n",
       "        text-align: right;\n",
       "    }\n",
       "</style>\n",
       "<table border=\"1\" class=\"dataframe\">\n",
       "  <thead>\n",
       "    <tr style=\"text-align: right;\">\n",
       "      <th></th>\n",
       "      <th>title</th>\n",
       "      <th>type</th>\n",
       "      <th>release_year</th>\n",
       "      <th>age_certification</th>\n",
       "      <th>genres</th>\n",
       "      <th>production_countries</th>\n",
       "    </tr>\n",
       "  </thead>\n",
       "  <tbody>\n",
       "    <tr>\n",
       "      <th>0</th>\n",
       "      <td>Five Came Back: The Reference Films</td>\n",
       "      <td>SHOW</td>\n",
       "      <td>1945</td>\n",
       "      <td>TV-MA</td>\n",
       "      <td>['documentation']</td>\n",
       "      <td>['US']</td>\n",
       "    </tr>\n",
       "    <tr>\n",
       "      <th>1</th>\n",
       "      <td>Taxi Driver</td>\n",
       "      <td>MOVIE</td>\n",
       "      <td>1976</td>\n",
       "      <td>R</td>\n",
       "      <td>['crime', 'drama']</td>\n",
       "      <td>['US']</td>\n",
       "    </tr>\n",
       "    <tr>\n",
       "      <th>2</th>\n",
       "      <td>Monty Python and the Holy Grail</td>\n",
       "      <td>MOVIE</td>\n",
       "      <td>1975</td>\n",
       "      <td>PG</td>\n",
       "      <td>['comedy', 'fantasy']</td>\n",
       "      <td>['GB']</td>\n",
       "    </tr>\n",
       "    <tr>\n",
       "      <th>3</th>\n",
       "      <td>Life of Brian</td>\n",
       "      <td>MOVIE</td>\n",
       "      <td>1979</td>\n",
       "      <td>R</td>\n",
       "      <td>['comedy']</td>\n",
       "      <td>['GB']</td>\n",
       "    </tr>\n",
       "    <tr>\n",
       "      <th>4</th>\n",
       "      <td>The Exorcist</td>\n",
       "      <td>MOVIE</td>\n",
       "      <td>1973</td>\n",
       "      <td>R</td>\n",
       "      <td>['horror']</td>\n",
       "      <td>['US']</td>\n",
       "    </tr>\n",
       "    <tr>\n",
       "      <th>...</th>\n",
       "      <td>...</td>\n",
       "      <td>...</td>\n",
       "      <td>...</td>\n",
       "      <td>...</td>\n",
       "      <td>...</td>\n",
       "      <td>...</td>\n",
       "    </tr>\n",
       "    <tr>\n",
       "      <th>5801</th>\n",
       "      <td>Fine Wine</td>\n",
       "      <td>MOVIE</td>\n",
       "      <td>2021</td>\n",
       "      <td>NaN</td>\n",
       "      <td>['romance', 'drama']</td>\n",
       "      <td>['NG']</td>\n",
       "    </tr>\n",
       "    <tr>\n",
       "      <th>5802</th>\n",
       "      <td>Edis Starlight</td>\n",
       "      <td>MOVIE</td>\n",
       "      <td>2021</td>\n",
       "      <td>NaN</td>\n",
       "      <td>['music', 'documentation']</td>\n",
       "      <td>NaN</td>\n",
       "    </tr>\n",
       "    <tr>\n",
       "      <th>5803</th>\n",
       "      <td>Clash</td>\n",
       "      <td>MOVIE</td>\n",
       "      <td>2021</td>\n",
       "      <td>NaN</td>\n",
       "      <td>['family', 'drama']</td>\n",
       "      <td>['NG', 'CA']</td>\n",
       "    </tr>\n",
       "    <tr>\n",
       "      <th>5804</th>\n",
       "      <td>Shadow Parties</td>\n",
       "      <td>MOVIE</td>\n",
       "      <td>2021</td>\n",
       "      <td>NaN</td>\n",
       "      <td>['action', 'thriller']</td>\n",
       "      <td>NaN</td>\n",
       "    </tr>\n",
       "    <tr>\n",
       "      <th>5805</th>\n",
       "      <td>Mighty Little Bheem: Kite Festival</td>\n",
       "      <td>SHOW</td>\n",
       "      <td>2021</td>\n",
       "      <td>NaN</td>\n",
       "      <td>['family', 'comedy', 'animation']</td>\n",
       "      <td>NaN</td>\n",
       "    </tr>\n",
       "  </tbody>\n",
       "</table>\n",
       "<p>5806 rows × 6 columns</p>\n",
       "</div>"
      ],
      "text/plain": [
       "                                    title   type  release_year  \\\n",
       "0     Five Came Back: The Reference Films   SHOW          1945   \n",
       "1                             Taxi Driver  MOVIE          1976   \n",
       "2         Monty Python and the Holy Grail  MOVIE          1975   \n",
       "3                           Life of Brian  MOVIE          1979   \n",
       "4                            The Exorcist  MOVIE          1973   \n",
       "...                                   ...    ...           ...   \n",
       "5801                            Fine Wine  MOVIE          2021   \n",
       "5802                       Edis Starlight  MOVIE          2021   \n",
       "5803                                Clash  MOVIE          2021   \n",
       "5804                       Shadow Parties  MOVIE          2021   \n",
       "5805   Mighty Little Bheem: Kite Festival   SHOW          2021   \n",
       "\n",
       "     age_certification                             genres production_countries  \n",
       "0                TV-MA                  ['documentation']               ['US']  \n",
       "1                    R                 ['crime', 'drama']               ['US']  \n",
       "2                   PG              ['comedy', 'fantasy']               ['GB']  \n",
       "3                    R                         ['comedy']               ['GB']  \n",
       "4                    R                         ['horror']               ['US']  \n",
       "...                ...                                ...                  ...  \n",
       "5801               NaN               ['romance', 'drama']               ['NG']  \n",
       "5802               NaN         ['music', 'documentation']                  NaN  \n",
       "5803               NaN                ['family', 'drama']         ['NG', 'CA']  \n",
       "5804               NaN             ['action', 'thriller']                  NaN  \n",
       "5805               NaN  ['family', 'comedy', 'animation']                  NaN  \n",
       "\n",
       "[5806 rows x 6 columns]"
      ]
     },
     "execution_count": 11,
     "metadata": {},
     "output_type": "execute_result"
    }
   ],
   "source": [
    "x=dataset.drop(columns=['runtime','imdb_score','tmdb_score','imdb_votes','tmdb_popularity'],axis=1).copy()\n",
    "x\n",
    "\n"
   ]
  },
  {
   "cell_type": "code",
   "execution_count": 12,
   "id": "ba32479a",
   "metadata": {},
   "outputs": [],
   "source": [
    "x_list=['runtime','imdb_votes','tmdb_popularity','tmdb_score']\n"
   ]
  },
  {
   "cell_type": "code",
   "execution_count": 13,
   "id": "85cbb658",
   "metadata": {},
   "outputs": [
    {
     "data": {
      "text/html": [
       "<div>\n",
       "<style scoped>\n",
       "    .dataframe tbody tr th:only-of-type {\n",
       "        vertical-align: middle;\n",
       "    }\n",
       "\n",
       "    .dataframe tbody tr th {\n",
       "        vertical-align: top;\n",
       "    }\n",
       "\n",
       "    .dataframe thead th {\n",
       "        text-align: right;\n",
       "    }\n",
       "</style>\n",
       "<table border=\"1\" class=\"dataframe\">\n",
       "  <thead>\n",
       "    <tr style=\"text-align: right;\">\n",
       "      <th></th>\n",
       "      <th>runtime</th>\n",
       "      <th>imdb_votes</th>\n",
       "      <th>tmdb_popularity</th>\n",
       "      <th>tmdb_score</th>\n",
       "    </tr>\n",
       "  </thead>\n",
       "  <tbody>\n",
       "    <tr>\n",
       "      <th>0</th>\n",
       "      <td>48</td>\n",
       "      <td>NaN</td>\n",
       "      <td>0.600</td>\n",
       "      <td>NaN</td>\n",
       "    </tr>\n",
       "    <tr>\n",
       "      <th>1</th>\n",
       "      <td>113</td>\n",
       "      <td>795222.0</td>\n",
       "      <td>27.612</td>\n",
       "      <td>8.2</td>\n",
       "    </tr>\n",
       "    <tr>\n",
       "      <th>2</th>\n",
       "      <td>91</td>\n",
       "      <td>530877.0</td>\n",
       "      <td>18.216</td>\n",
       "      <td>7.8</td>\n",
       "    </tr>\n",
       "    <tr>\n",
       "      <th>3</th>\n",
       "      <td>94</td>\n",
       "      <td>392419.0</td>\n",
       "      <td>17.505</td>\n",
       "      <td>7.8</td>\n",
       "    </tr>\n",
       "    <tr>\n",
       "      <th>4</th>\n",
       "      <td>133</td>\n",
       "      <td>391942.0</td>\n",
       "      <td>95.337</td>\n",
       "      <td>7.7</td>\n",
       "    </tr>\n",
       "  </tbody>\n",
       "</table>\n",
       "</div>"
      ],
      "text/plain": [
       "   runtime  imdb_votes  tmdb_popularity  tmdb_score\n",
       "0       48         NaN            0.600         NaN\n",
       "1      113    795222.0           27.612         8.2\n",
       "2       91    530877.0           18.216         7.8\n",
       "3       94    392419.0           17.505         7.8\n",
       "4      133    391942.0           95.337         7.7"
      ]
     },
     "execution_count": 13,
     "metadata": {},
     "output_type": "execute_result"
    }
   ],
   "source": [
    "x_numeric=dataset[x_list]\n",
    "x_numeric.head()"
   ]
  },
  {
   "cell_type": "code",
   "execution_count": 14,
   "id": "17633e43",
   "metadata": {},
   "outputs": [
    {
     "data": {
      "text/plain": [
       "array([[4.80000e+01,         nan, 6.00000e-01,         nan],\n",
       "       [1.13000e+02, 7.95222e+05, 2.76120e+01, 8.20000e+00],\n",
       "       [9.10000e+01, 5.30877e+05, 1.82160e+01, 7.80000e+00],\n",
       "       ...,\n",
       "       [8.80000e+01, 3.20000e+01, 7.09000e-01,         nan],\n",
       "       [1.16000e+02, 9.00000e+00, 2.18600e+00,         nan],\n",
       "       [0.00000e+00, 1.60000e+01, 9.79000e-01, 1.00000e+01]])"
      ]
     },
     "execution_count": 14,
     "metadata": {},
     "output_type": "execute_result"
    }
   ],
   "source": [
    "x_numeric=x_numeric.values\n",
    "x_numeric"
   ]
  },
  {
   "cell_type": "code",
   "execution_count": 15,
   "id": "38631c71",
   "metadata": {},
   "outputs": [],
   "source": [
    "y=dataset['imdb_score'].copy()\n",
    "y=y.replace(to_replace=np.nan,value=5.5)"
   ]
  },
  {
   "cell_type": "code",
   "execution_count": 16,
   "id": "b0742bc3",
   "metadata": {},
   "outputs": [],
   "source": [
    "y=y.values"
   ]
  },
  {
   "cell_type": "code",
   "execution_count": 17,
   "id": "12547d25",
   "metadata": {},
   "outputs": [],
   "source": [
    "x=x.values"
   ]
  },
  {
   "cell_type": "code",
   "execution_count": 18,
   "id": "83f63f07",
   "metadata": {},
   "outputs": [
    {
     "name": "stdout",
     "output_type": "stream",
     "text": [
      "[['Five Came Back: The Reference Films' 'SHOW' 1945 'TV-MA'\n",
      "  \"['documentation']\" \"['US']\"]\n",
      " ['Taxi Driver' 'MOVIE' 1976 'R' \"['crime', 'drama']\" \"['US']\"]\n",
      " ['Monty Python and the Holy Grail' 'MOVIE' 1975 'PG'\n",
      "  \"['comedy', 'fantasy']\" \"['GB']\"]\n",
      " ...\n",
      " ['Clash' 'MOVIE' 2021 nan \"['family', 'drama']\" \"['NG', 'CA']\"]\n",
      " ['Shadow Parties' 'MOVIE' 2021 nan \"['action', 'thriller']\" nan]\n",
      " ['Mighty Little Bheem: Kite Festival' 'SHOW' 2021 nan\n",
      "  \"['family', 'comedy', 'animation']\" nan]]\n"
     ]
    }
   ],
   "source": [
    "print(x)"
   ]
  },
  {
   "cell_type": "code",
   "execution_count": 19,
   "id": "c3b7fa23",
   "metadata": {},
   "outputs": [
    {
     "data": {
      "text/plain": [
       "(5806, 6)"
      ]
     },
     "execution_count": 19,
     "metadata": {},
     "output_type": "execute_result"
    }
   ],
   "source": [
    "x.shape"
   ]
  },
  {
   "cell_type": "code",
   "execution_count": 20,
   "id": "f4139938",
   "metadata": {},
   "outputs": [
    {
     "name": "stdout",
     "output_type": "stream",
     "text": [
      "[5.5 8.3 8.2 ... 6.5 6.2 8.8]\n"
     ]
    }
   ],
   "source": [
    "print(y)"
   ]
  },
  {
   "cell_type": "code",
   "execution_count": 21,
   "id": "11116403",
   "metadata": {},
   "outputs": [
    {
     "data": {
      "text/plain": [
       "5806"
      ]
     },
     "execution_count": 21,
     "metadata": {},
     "output_type": "execute_result"
    }
   ],
   "source": [
    "y.size"
   ]
  },
  {
   "cell_type": "code",
   "execution_count": 22,
   "id": "c9b82cb0",
   "metadata": {},
   "outputs": [
    {
     "data": {
      "text/plain": [
       "array([['Five Came Back: The Reference Films'],\n",
       "       ['SHOW'],\n",
       "       [1945],\n",
       "       ...,\n",
       "       [nan],\n",
       "       [\"['family', 'comedy', 'animation']\"],\n",
       "       [nan]], dtype=object)"
      ]
     },
     "execution_count": 22,
     "metadata": {},
     "output_type": "execute_result"
    }
   ],
   "source": [
    "x.reshape(-1,1)"
   ]
  },
  {
   "cell_type": "code",
   "execution_count": 23,
   "id": "82504077",
   "metadata": {},
   "outputs": [
    {
     "data": {
      "text/plain": [
       "array([['Five Came Back: The Reference Films', 'SHOW', 1945, 'TV-MA',\n",
       "        \"['documentation']\", \"['US']\"],\n",
       "       ['Taxi Driver', 'MOVIE', 1976, 'R', \"['crime', 'drama']\",\n",
       "        \"['US']\"],\n",
       "       ['Monty Python and the Holy Grail', 'MOVIE', 1975, 'PG',\n",
       "        \"['comedy', 'fantasy']\", \"['GB']\"],\n",
       "       ...,\n",
       "       ['Clash', 'MOVIE', 2021, nan, \"['family', 'drama']\",\n",
       "        \"['NG', 'CA']\"],\n",
       "       ['Shadow Parties', 'MOVIE', 2021, nan, \"['action', 'thriller']\",\n",
       "        nan],\n",
       "       ['Mighty Little Bheem: Kite Festival', 'SHOW', 2021, nan,\n",
       "        \"['family', 'comedy', 'animation']\", nan]], dtype=object)"
      ]
     },
     "execution_count": 23,
     "metadata": {},
     "output_type": "execute_result"
    }
   ],
   "source": [
    "x"
   ]
  },
  {
   "cell_type": "code",
   "execution_count": 24,
   "id": "24590fc1",
   "metadata": {},
   "outputs": [],
   "source": [
    "from sklearn.impute import SimpleImputer "
   ]
  },
  {
   "cell_type": "code",
   "execution_count": 25,
   "id": "3f744cac",
   "metadata": {},
   "outputs": [],
   "source": [
    "imputer=SimpleImputer(missing_values=np.nan,strategy='mean')\n"
   ]
  },
  {
   "cell_type": "code",
   "execution_count": 26,
   "id": "3f7c9f8f",
   "metadata": {},
   "outputs": [
    {
     "data": {
      "text/plain": [
       "SimpleImputer()"
      ]
     },
     "execution_count": 26,
     "metadata": {},
     "output_type": "execute_result"
    }
   ],
   "source": [
    "imputer.fit(x_numeric[:,1:])"
   ]
  },
  {
   "cell_type": "code",
   "execution_count": 27,
   "id": "e88d1a85",
   "metadata": {},
   "outputs": [],
   "source": [
    "x_numeric[:,1:]=imputer.transform(x_numeric[:,1:])"
   ]
  },
  {
   "cell_type": "code",
   "execution_count": 28,
   "id": "a88a5c3f",
   "metadata": {},
   "outputs": [
    {
     "data": {
      "text/plain": [
       "array([[2.34071950e+04, 6.00000000e-01, 6.81803936e+00],\n",
       "       [7.95222000e+05, 2.76120000e+01, 8.20000000e+00],\n",
       "       [5.30877000e+05, 1.82160000e+01, 7.80000000e+00],\n",
       "       ...,\n",
       "       [3.20000000e+01, 7.09000000e-01, 6.81803936e+00],\n",
       "       [9.00000000e+00, 2.18600000e+00, 6.81803936e+00],\n",
       "       [1.60000000e+01, 9.79000000e-01, 1.00000000e+01]])"
      ]
     },
     "execution_count": 28,
     "metadata": {},
     "output_type": "execute_result"
    }
   ],
   "source": [
    "x_numeric[:,1:]"
   ]
  },
  {
   "cell_type": "code",
   "execution_count": 29,
   "id": "cf6eca77",
   "metadata": {},
   "outputs": [
    {
     "data": {
      "text/plain": [
       "array([[4.80000000e+01, 2.34071950e+04, 6.00000000e-01, 6.81803936e+00],\n",
       "       [1.13000000e+02, 7.95222000e+05, 2.76120000e+01, 8.20000000e+00],\n",
       "       [9.10000000e+01, 5.30877000e+05, 1.82160000e+01, 7.80000000e+00],\n",
       "       ...,\n",
       "       [8.80000000e+01, 3.20000000e+01, 7.09000000e-01, 6.81803936e+00],\n",
       "       [1.16000000e+02, 9.00000000e+00, 2.18600000e+00, 6.81803936e+00],\n",
       "       [0.00000000e+00, 1.60000000e+01, 9.79000000e-01, 1.00000000e+01]])"
      ]
     },
     "execution_count": 29,
     "metadata": {},
     "output_type": "execute_result"
    }
   ],
   "source": [
    "X=x_numeric.copy()\n",
    "X"
   ]
  },
  {
   "cell_type": "code",
   "execution_count": 30,
   "id": "96568458",
   "metadata": {},
   "outputs": [
    {
     "data": {
      "text/plain": [
       "array([['Five Came Back: The Reference Films', 'SHOW', 1945, 'TV-MA',\n",
       "        \"['documentation']\", \"['US']\"],\n",
       "       ['Taxi Driver', 'MOVIE', 1976, 'R', \"['crime', 'drama']\",\n",
       "        \"['US']\"],\n",
       "       ['Monty Python and the Holy Grail', 'MOVIE', 1975, 'PG',\n",
       "        \"['comedy', 'fantasy']\", \"['GB']\"],\n",
       "       ...,\n",
       "       ['Clash', 'MOVIE', 2021, nan, \"['family', 'drama']\",\n",
       "        \"['NG', 'CA']\"],\n",
       "       ['Shadow Parties', 'MOVIE', 2021, nan, \"['action', 'thriller']\",\n",
       "        nan],\n",
       "       ['Mighty Little Bheem: Kite Festival', 'SHOW', 2021, nan,\n",
       "        \"['family', 'comedy', 'animation']\", nan]], dtype=object)"
      ]
     },
     "execution_count": 30,
     "metadata": {},
     "output_type": "execute_result"
    }
   ],
   "source": [
    "x"
   ]
  },
  {
   "cell_type": "code",
   "execution_count": 31,
   "id": "3afc298a",
   "metadata": {},
   "outputs": [],
   "source": [
    "imp=SimpleImputer(missing_values=np.nan,strategy=\"most_frequent\")"
   ]
  },
  {
   "cell_type": "code",
   "execution_count": 32,
   "id": "be30411d",
   "metadata": {},
   "outputs": [
    {
     "data": {
      "text/plain": [
       "SimpleImputer(strategy='most_frequent')"
      ]
     },
     "execution_count": 32,
     "metadata": {},
     "output_type": "execute_result"
    }
   ],
   "source": [
    "imp.fit(x[:,1:])"
   ]
  },
  {
   "cell_type": "code",
   "execution_count": 33,
   "id": "b7473ac8",
   "metadata": {},
   "outputs": [],
   "source": [
    "x[:,1:]=imp.transform(x[:,1:])"
   ]
  },
  {
   "cell_type": "code",
   "execution_count": 34,
   "id": "5c6b0613",
   "metadata": {},
   "outputs": [
    {
     "data": {
      "text/plain": [
       "array([['SHOW', 1945, 'TV-MA', \"['documentation']\", \"['US']\"],\n",
       "       ['MOVIE', 1976, 'R', \"['crime', 'drama']\", \"['US']\"],\n",
       "       ['MOVIE', 1975, 'PG', \"['comedy', 'fantasy']\", \"['GB']\"],\n",
       "       ...,\n",
       "       ['MOVIE', 2021, 'TV-MA', \"['family', 'drama']\", \"['NG', 'CA']\"],\n",
       "       ['MOVIE', 2021, 'TV-MA', \"['action', 'thriller']\", \"['US']\"],\n",
       "       ['SHOW', 2021, 'TV-MA', \"['family', 'comedy', 'animation']\",\n",
       "        \"['US']\"]], dtype=object)"
      ]
     },
     "execution_count": 34,
     "metadata": {},
     "output_type": "execute_result"
    }
   ],
   "source": [
    "x[:,1:]"
   ]
  },
  {
   "cell_type": "code",
   "execution_count": 35,
   "id": "5aae6c92",
   "metadata": {},
   "outputs": [],
   "source": [
    "final=np.concatenate((x,X),axis=1)"
   ]
  },
  {
   "cell_type": "code",
   "execution_count": 36,
   "id": "22874c4e",
   "metadata": {},
   "outputs": [
    {
     "data": {
      "text/plain": [
       "array([['Five Came Back: The Reference Films', 'SHOW', 1945, ...,\n",
       "        23407.194987659008, 0.6, 6.818039358600582],\n",
       "       ['Taxi Driver', 'MOVIE', 1976, ..., 795222.0, 27.612, 8.2],\n",
       "       ['Monty Python and the Holy Grail', 'MOVIE', 1975, ..., 530877.0,\n",
       "        18.216, 7.8],\n",
       "       ...,\n",
       "       ['Clash', 'MOVIE', 2021, ..., 32.0, 0.709, 6.818039358600582],\n",
       "       ['Shadow Parties', 'MOVIE', 2021, ..., 9.0, 2.186,\n",
       "        6.818039358600582],\n",
       "       ['Mighty Little Bheem: Kite Festival', 'SHOW', 2021, ..., 16.0,\n",
       "        0.979, 10.0]], dtype=object)"
      ]
     },
     "execution_count": 36,
     "metadata": {},
     "output_type": "execute_result"
    }
   ],
   "source": [
    "final"
   ]
  },
  {
   "cell_type": "code",
   "execution_count": 37,
   "id": "9ff903e2",
   "metadata": {},
   "outputs": [
    {
     "data": {
      "text/plain": [
       "5806"
      ]
     },
     "execution_count": 37,
     "metadata": {},
     "output_type": "execute_result"
    }
   ],
   "source": [
    "y.size"
   ]
  },
  {
   "cell_type": "code",
   "execution_count": 38,
   "id": "c8ecca9a",
   "metadata": {},
   "outputs": [],
   "source": [
    "from sklearn.preprocessing import LabelEncoder\n",
    "le1=LabelEncoder()#creating object\n",
    "le2=LabelEncoder()#creating object\n",
    "le3=LabelEncoder()#creating object\n",
    "le4=LabelEncoder()#creating object\n",
    "le5=LabelEncoder()#creating object\n",
    "final[:,0]=le1.fit_transform(final[:,1])\n",
    "final[:,1]=le2.fit_transform(final[:,1])\n",
    "final[:,3]=le3.fit_transform(final[:,1])\n",
    "final[:,4]=le4.fit_transform(final[:,1])\n",
    "final[:,5]=le5.fit_transform(final[:,1])\n"
   ]
  },
  {
   "cell_type": "code",
   "execution_count": 39,
   "id": "56280e30",
   "metadata": {},
   "outputs": [
    {
     "name": "stdout",
     "output_type": "stream",
     "text": [
      "[[1 1 1945 ... 23407.194987659008 0.6 6.818039358600582]\n",
      " [0 0 1976 ... 795222.0 27.612 8.2]\n",
      " [0 0 1975 ... 530877.0 18.216 7.8]\n",
      " ...\n",
      " [0 0 2021 ... 32.0 0.709 6.818039358600582]\n",
      " [0 0 2021 ... 9.0 2.186 6.818039358600582]\n",
      " [1 1 2021 ... 16.0 0.979 10.0]]\n"
     ]
    }
   ],
   "source": [
    "print(final)"
   ]
  },
  {
   "cell_type": "code",
   "execution_count": 40,
   "id": "abf56590",
   "metadata": {},
   "outputs": [
    {
     "name": "stdout",
     "output_type": "stream",
     "text": [
      "[5.5 8.3 8.2 ... 6.5 6.2 8.8]\n"
     ]
    }
   ],
   "source": [
    "print(y)"
   ]
  },
  {
   "cell_type": "code",
   "execution_count": 41,
   "id": "2f626cc3",
   "metadata": {},
   "outputs": [],
   "source": [
    "y=y.astype(int)"
   ]
  },
  {
   "cell_type": "code",
   "execution_count": 42,
   "id": "b61591b6",
   "metadata": {},
   "outputs": [
    {
     "data": {
      "text/plain": [
       "array([5, 8, 8, ..., 6, 6, 8])"
      ]
     },
     "execution_count": 42,
     "metadata": {},
     "output_type": "execute_result"
    }
   ],
   "source": [
    "y"
   ]
  },
  {
   "cell_type": "code",
   "execution_count": 43,
   "id": "0bd61934",
   "metadata": {},
   "outputs": [],
   "source": [
    "from sklearn.model_selection import train_test_split"
   ]
  },
  {
   "cell_type": "code",
   "execution_count": 44,
   "id": "f9470b58",
   "metadata": {},
   "outputs": [],
   "source": [
    "final_train,final_test,y_train,y_test=train_test_split(final,y,test_size=0.2,random_state=0)"
   ]
  },
  {
   "cell_type": "code",
   "execution_count": 45,
   "id": "ed58ac84",
   "metadata": {},
   "outputs": [
    {
     "name": "stdout",
     "output_type": "stream",
     "text": [
      "[[1 1 2016 ... 1769.0 22.672 8.2]\n",
      " [1 1 2021 ... 14040.0 21.349 7.3]\n",
      " [0 0 2012 ... 286.0 2.552 4.9]\n",
      " ...\n",
      " [0 0 2021 ... 804.0 7.246 8.1]\n",
      " [0 0 2019 ... 23407.194987659008 2.218 6.8]\n",
      " [1 1 2017 ... 2168.0 11.357 7.3]]\n"
     ]
    }
   ],
   "source": [
    "print(final_test)"
   ]
  },
  {
   "cell_type": "code",
   "execution_count": 46,
   "id": "dc025024",
   "metadata": {},
   "outputs": [
    {
     "name": "stdout",
     "output_type": "stream",
     "text": [
      "[5 6 6 ... 7 5 6]\n"
     ]
    }
   ],
   "source": [
    "print(y_train)"
   ]
  },
  {
   "cell_type": "code",
   "execution_count": 47,
   "id": "69fbe837",
   "metadata": {},
   "outputs": [
    {
     "name": "stdout",
     "output_type": "stream",
     "text": [
      "[7 7 5 ... 6 5 6]\n"
     ]
    }
   ],
   "source": [
    "print(y_test)"
   ]
  },
  {
   "cell_type": "code",
   "execution_count": 48,
   "id": "42f30b1f",
   "metadata": {},
   "outputs": [],
   "source": [
    "from sklearn.preprocessing import StandardScaler\n",
    "sc=StandardScaler()\n",
    "final_train=sc.fit_transform(final_train)\n",
    "final_test=sc.fit_transform(final_test)"
   ]
  },
  {
   "cell_type": "code",
   "execution_count": 49,
   "id": "6b48c39c",
   "metadata": {},
   "outputs": [
    {
     "data": {
      "text/plain": [
       "array([[-0.73644059, -0.73644059,  0.27378269, ..., -0.18921012,\n",
       "        -0.2038601 , -1.68221085],\n",
       "       [ 1.35788279,  1.35788279,  0.82211555, ..., -0.27414938,\n",
       "         0.0076324 , -0.0962011 ],\n",
       "       [ 1.35788279,  1.35788279,  0.41086591, ..., -0.25979247,\n",
       "         0.13016947,  1.13736204],\n",
       "       ...,\n",
       "       [-0.73644059, -0.73644059, -0.13746695, ...,  0.01214856,\n",
       "        -0.23088065,  0.34435717],\n",
       "       [-0.73644059, -0.73644059,  0.13669948, ..., -0.2528708 ,\n",
       "        -0.22581338, -0.44864771],\n",
       "       [-0.73644059, -0.73644059,  0.13669948, ..., -0.27444119,\n",
       "        -0.32127132,  1.04925039]])"
      ]
     },
     "execution_count": 49,
     "metadata": {},
     "output_type": "execute_result"
    }
   ],
   "source": [
    "final_train"
   ]
  },
  {
   "cell_type": "code",
   "execution_count": 50,
   "id": "31de9a3a",
   "metadata": {},
   "outputs": [
    {
     "data": {
      "text/plain": [
       "array([[ 1.34415895,  1.34415895, -0.00751806, ..., -0.29102737,\n",
       "         0.00279766,  1.1667827 ],\n",
       "       [ 1.34415895,  1.34415895,  0.66448065, ..., -0.11873031,\n",
       "        -0.01657492,  0.38693886],\n",
       "       [-0.74395963, -0.74395963, -0.54511703, ..., -0.31185016,\n",
       "        -0.29181792, -1.69264473],\n",
       "       ...,\n",
       "       [-0.74395963, -0.74395963,  0.66448065, ..., -0.30457693,\n",
       "        -0.22308405,  1.08013339],\n",
       "       [-0.74395963, -0.74395963,  0.39568117, ...,  0.01279444,\n",
       "        -0.29670866, -0.04630772],\n",
       "       [ 1.34415895,  1.34415895,  0.12688168, ..., -0.28542501,\n",
       "        -0.162887  ,  0.38693886]])"
      ]
     },
     "execution_count": 50,
     "metadata": {},
     "output_type": "execute_result"
    }
   ],
   "source": [
    "final_test"
   ]
  },
  {
   "cell_type": "markdown",
   "id": "0cf1918a",
   "metadata": {},
   "source": [
    "# training dataset"
   ]
  },
  {
   "cell_type": "code",
   "execution_count": 51,
   "id": "431805da",
   "metadata": {},
   "outputs": [],
   "source": [
    "from sklearn.ensemble import RandomForestClassifier"
   ]
  },
  {
   "cell_type": "code",
   "execution_count": 52,
   "id": "7fff11c6",
   "metadata": {},
   "outputs": [],
   "source": [
    "model=RandomForestClassifier(n_estimators=10)"
   ]
  },
  {
   "cell_type": "code",
   "execution_count": 53,
   "id": "0db6cf0c",
   "metadata": {},
   "outputs": [
    {
     "data": {
      "text/plain": [
       "RandomForestClassifier(n_estimators=10)"
      ]
     },
     "execution_count": 53,
     "metadata": {},
     "output_type": "execute_result"
    }
   ],
   "source": [
    "model.fit(final_train,y_train)"
   ]
  },
  {
   "cell_type": "code",
   "execution_count": 54,
   "id": "59aae1c9",
   "metadata": {},
   "outputs": [
    {
     "data": {
      "text/plain": [
       "0.4569707401032702"
      ]
     },
     "execution_count": 54,
     "metadata": {},
     "output_type": "execute_result"
    }
   ],
   "source": [
    "model.score(final_test,y_test)"
   ]
  },
  {
   "cell_type": "code",
   "execution_count": 55,
   "id": "411fe675",
   "metadata": {},
   "outputs": [],
   "source": [
    "y_predicted=model.predict(final_test)"
   ]
  },
  {
   "cell_type": "code",
   "execution_count": 56,
   "id": "e0c3298f",
   "metadata": {},
   "outputs": [],
   "source": [
    "from sklearn.metrics import confusion_matrix"
   ]
  },
  {
   "cell_type": "code",
   "execution_count": 57,
   "id": "b9f1d40f",
   "metadata": {},
   "outputs": [],
   "source": [
    "cm=confusion_matrix(y_test,y_predicted)"
   ]
  },
  {
   "cell_type": "code",
   "execution_count": 58,
   "id": "ca2f24b4",
   "metadata": {},
   "outputs": [
    {
     "data": {
      "text/plain": [
       "array([[  0,   0,   2,   0,   0,   0,   0,   0,   0],\n",
       "       [  0,   0,   0,   0,   3,   1,   2,   0,   0],\n",
       "       [  0,   0,   5,   6,   8,   6,   2,   0,   0],\n",
       "       [  0,   1,   5,  13,  31,  16,   3,   0,   0],\n",
       "       [  0,   0,   3,  26, 174,  67,  18,   4,   0],\n",
       "       [  0,   2,   8,  10,  99, 176,  54,  11,   0],\n",
       "       [  0,   1,   2,   2,  31, 104, 133,  23,   1],\n",
       "       [  0,   4,   0,   0,  10,  20,  41,  30,   1],\n",
       "       [  0,   0,   0,   0,   0,   0,   2,   1,   0]], dtype=int64)"
      ]
     },
     "execution_count": 58,
     "metadata": {},
     "output_type": "execute_result"
    }
   ],
   "source": [
    "cm"
   ]
  },
  {
   "cell_type": "code",
   "execution_count": 59,
   "id": "8a6b0891",
   "metadata": {},
   "outputs": [
    {
     "data": {
      "text/plain": [
       "Text(69.0, 0.5, 'Truth')"
      ]
     },
     "execution_count": 59,
     "metadata": {},
     "output_type": "execute_result"
    },
    {
     "data": {
      "image/png": "[encoded data removed]",
      "text/plain": [
       "<Figure size 720x504 with 2 Axes>"
      ]
     },
     "metadata": {
      "needs_background": "light"
     },
     "output_type": "display_data"
    }
   ],
   "source": [
    "%matplotlib inline\n",
    "import matplotlib.pyplot as plt\n",
    "import seaborn as sn\n",
    "plt.figure(figsize=(10,7))\n",
    "sn.heatmap(cm,annot=True)\n",
    "plt.xlabel('Predicted')\n",
    "plt.ylabel('Truth')"
   ]
  },
  {
   "cell_type": "code",
   "execution_count": null,
   "id": "7fcac895",
   "metadata": {},
   "outputs": [],
   "source": []
  }
 ],
 "metadata": {
  "kernelspec": {
   "display_name": "Python 3 (ipykernel)",
   "language": "python",
   "name": "python3"
  },
  "language_info": {
   "codemirror_mode": {
    "name": "ipython",
    "version": 3
   },
   "file_extension": ".py",
   "mimetype": "text/x-python",
   "name": "python",
   "nbconvert_exporter": "python",
   "pygments_lexer": "ipython3",
   "version": "3.9.12"
  }
 },
 "nbformat": 4,
 "nbformat_minor": 5
}
