{
 "cells": [
  {
   "cell_type": "code",
   "execution_count": 1,
   "id": "4fbaa335",
   "metadata": {},
   "outputs": [],
   "source": [
    "import numpy as np\n",
    "import pandas as pd"
   ]
  },
  {
   "cell_type": "code",
   "execution_count": 2,
   "id": "a7a168a7",
   "metadata": {},
   "outputs": [],
   "source": [
    "dataset=pd.read_csv('M:/sem 5/de/titles.csv')"
   ]
  },
  {
   "cell_type": "code",
   "execution_count": 3,
   "id": "562a69d1",
   "metadata": {},
   "outputs": [
    {
     "data": {
      "text/html": [
       "<div>\n",
       "<style scoped>\n",
       "    .dataframe tbody tr th:only-of-type {\n",
       "        vertical-align: middle;\n",
       "    }\n",
       "\n",
       "    .dataframe tbody tr th {\n",
       "        vertical-align: top;\n",
       "    }\n",
       "\n",
       "    .dataframe thead th {\n",
       "        text-align: right;\n",
       "    }\n",
       "</style>\n",
       "<table border=\"1\" class=\"dataframe\">\n",
       "  <thead>\n",
       "    <tr style=\"text-align: right;\">\n",
       "      <th></th>\n",
       "      <th>id</th>\n",
       "      <th>title</th>\n",
       "      <th>type</th>\n",
       "      <th>description</th>\n",
       "      <th>release_year</th>\n",
       "      <th>age_certification</th>\n",
       "      <th>runtime</th>\n",
       "      <th>genres</th>\n",
       "      <th>production_countries</th>\n",
       "      <th>seasons</th>\n",
       "      <th>imdb_id</th>\n",
       "      <th>imdb_score</th>\n",
       "      <th>imdb_votes</th>\n",
       "      <th>tmdb_popularity</th>\n",
       "      <th>tmdb_score</th>\n",
       "    </tr>\n",
       "  </thead>\n",
       "  <tbody>\n",
       "    <tr>\n",
       "      <th>0</th>\n",
       "      <td>ts300399</td>\n",
       "      <td>Five Came Back: The Reference Films</td>\n",
       "      <td>SHOW</td>\n",
       "      <td>This collection includes 12 World War II-era p...</td>\n",
       "      <td>1945</td>\n",
       "      <td>TV-MA</td>\n",
       "      <td>48</td>\n",
       "      <td>['documentation']</td>\n",
       "      <td>['US']</td>\n",
       "      <td>1.0</td>\n",
       "      <td>NaN</td>\n",
       "      <td>NaN</td>\n",
       "      <td>NaN</td>\n",
       "      <td>0.600</td>\n",
       "      <td>NaN</td>\n",
       "    </tr>\n",
       "    <tr>\n",
       "      <th>1</th>\n",
       "      <td>tm84618</td>\n",
       "      <td>Taxi Driver</td>\n",
       "      <td>MOVIE</td>\n",
       "      <td>A mentally unstable Vietnam War veteran works ...</td>\n",
       "      <td>1976</td>\n",
       "      <td>R</td>\n",
       "      <td>113</td>\n",
       "      <td>['crime', 'drama']</td>\n",
       "      <td>['US']</td>\n",
       "      <td>NaN</td>\n",
       "      <td>tt0075314</td>\n",
       "      <td>8.3</td>\n",
       "      <td>795222.0</td>\n",
       "      <td>27.612</td>\n",
       "      <td>8.2</td>\n",
       "    </tr>\n",
       "    <tr>\n",
       "      <th>2</th>\n",
       "      <td>tm127384</td>\n",
       "      <td>Monty Python and the Holy Grail</td>\n",
       "      <td>MOVIE</td>\n",
       "      <td>King Arthur, accompanied by his squire, recrui...</td>\n",
       "      <td>1975</td>\n",
       "      <td>PG</td>\n",
       "      <td>91</td>\n",
       "      <td>['comedy', 'fantasy']</td>\n",
       "      <td>['GB']</td>\n",
       "      <td>NaN</td>\n",
       "      <td>tt0071853</td>\n",
       "      <td>8.2</td>\n",
       "      <td>530877.0</td>\n",
       "      <td>18.216</td>\n",
       "      <td>7.8</td>\n",
       "    </tr>\n",
       "    <tr>\n",
       "      <th>3</th>\n",
       "      <td>tm70993</td>\n",
       "      <td>Life of Brian</td>\n",
       "      <td>MOVIE</td>\n",
       "      <td>Brian Cohen is an average young Jewish man, bu...</td>\n",
       "      <td>1979</td>\n",
       "      <td>R</td>\n",
       "      <td>94</td>\n",
       "      <td>['comedy']</td>\n",
       "      <td>['GB']</td>\n",
       "      <td>NaN</td>\n",
       "      <td>tt0079470</td>\n",
       "      <td>8.0</td>\n",
       "      <td>392419.0</td>\n",
       "      <td>17.505</td>\n",
       "      <td>7.8</td>\n",
       "    </tr>\n",
       "    <tr>\n",
       "      <th>4</th>\n",
       "      <td>tm190788</td>\n",
       "      <td>The Exorcist</td>\n",
       "      <td>MOVIE</td>\n",
       "      <td>12-year-old Regan MacNeil begins to adapt an e...</td>\n",
       "      <td>1973</td>\n",
       "      <td>R</td>\n",
       "      <td>133</td>\n",
       "      <td>['horror']</td>\n",
       "      <td>['US']</td>\n",
       "      <td>NaN</td>\n",
       "      <td>tt0070047</td>\n",
       "      <td>8.1</td>\n",
       "      <td>391942.0</td>\n",
       "      <td>95.337</td>\n",
       "      <td>7.7</td>\n",
       "    </tr>\n",
       "  </tbody>\n",
       "</table>\n",
       "</div>"
      ],
      "text/plain": [
       "         id                                title   type  \\\n",
       "0  ts300399  Five Came Back: The Reference Films   SHOW   \n",
       "1   tm84618                          Taxi Driver  MOVIE   \n",
       "2  tm127384      Monty Python and the Holy Grail  MOVIE   \n",
       "3   tm70993                        Life of Brian  MOVIE   \n",
       "4  tm190788                         The Exorcist  MOVIE   \n",
       "\n",
       "                                         description  release_year  \\\n",
       "0  This collection includes 12 World War II-era p...          1945   \n",
       "1  A mentally unstable Vietnam War veteran works ...          1976   \n",
       "2  King Arthur, accompanied by his squire, recrui...          1975   \n",
       "3  Brian Cohen is an average young Jewish man, bu...          1979   \n",
       "4  12-year-old Regan MacNeil begins to adapt an e...          1973   \n",
       "\n",
       "  age_certification  runtime                 genres production_countries  \\\n",
       "0             TV-MA       48      ['documentation']               ['US']   \n",
       "1                 R      113     ['crime', 'drama']               ['US']   \n",
       "2                PG       91  ['comedy', 'fantasy']               ['GB']   \n",
       "3                 R       94             ['comedy']               ['GB']   \n",
       "4                 R      133             ['horror']               ['US']   \n",
       "\n",
       "   seasons    imdb_id  imdb_score  imdb_votes  tmdb_popularity  tmdb_score  \n",
       "0      1.0        NaN         NaN         NaN            0.600         NaN  \n",
       "1      NaN  tt0075314         8.3    795222.0           27.612         8.2  \n",
       "2      NaN  tt0071853         8.2    530877.0           18.216         7.8  \n",
       "3      NaN  tt0079470         8.0    392419.0           17.505         7.8  \n",
       "4      NaN  tt0070047         8.1    391942.0           95.337         7.7  "
      ]
     },
     "execution_count": 3,
     "metadata": {},
     "output_type": "execute_result"
    }
   ],
   "source": [
    "dataset.head()"
   ]
  },
  {
   "cell_type": "code",
   "execution_count": 4,
   "id": "13e66856",
   "metadata": {},
   "outputs": [],
   "source": [
    "dataset=dataset.drop(columns='seasons')"
   ]
  },
  {
   "cell_type": "code",
   "execution_count": 5,
   "id": "5b5ff9ec",
   "metadata": {},
   "outputs": [],
   "source": [
    "dataset=dataset.drop(columns='description')"
   ]
  },
  {
   "cell_type": "code",
   "execution_count": 6,
   "id": "3af263ab",
   "metadata": {},
   "outputs": [],
   "source": [
    "dataset=dataset.drop(columns='imdb_id')"
   ]
  },
  {
   "cell_type": "code",
   "execution_count": 7,
   "id": "fe6b6567",
   "metadata": {},
   "outputs": [],
   "source": [
    "dataset=dataset.drop(columns='id')"
   ]
  },
  {
   "cell_type": "code",
   "execution_count": 8,
   "id": "98943550",
   "metadata": {},
   "outputs": [
    {
     "data": {
      "text/html": [
       "<div>\n",
       "<style scoped>\n",
       "    .dataframe tbody tr th:only-of-type {\n",
       "        vertical-align: middle;\n",
       "    }\n",
       "\n",
       "    .dataframe tbody tr th {\n",
       "        vertical-align: top;\n",
       "    }\n",
       "\n",
       "    .dataframe thead th {\n",
       "        text-align: right;\n",
       "    }\n",
       "</style>\n",
       "<table border=\"1\" class=\"dataframe\">\n",
       "  <thead>\n",
       "    <tr style=\"text-align: right;\">\n",
       "      <th></th>\n",
       "      <th>title</th>\n",
       "      <th>type</th>\n",
       "      <th>release_year</th>\n",
       "      <th>age_certification</th>\n",
       "      <th>runtime</th>\n",
       "      <th>genres</th>\n",
       "      <th>production_countries</th>\n",
       "      <th>imdb_score</th>\n",
       "      <th>imdb_votes</th>\n",
       "      <th>tmdb_popularity</th>\n",
       "      <th>tmdb_score</th>\n",
       "    </tr>\n",
       "  </thead>\n",
       "  <tbody>\n",
       "    <tr>\n",
       "      <th>0</th>\n",
       "      <td>Five Came Back: The Reference Films</td>\n",
       "      <td>SHOW</td>\n",
       "      <td>1945</td>\n",
       "      <td>TV-MA</td>\n",
       "      <td>48</td>\n",
       "      <td>['documentation']</td>\n",
       "      <td>['US']</td>\n",
       "      <td>NaN</td>\n",
       "      <td>NaN</td>\n",
       "      <td>0.600</td>\n",
       "      <td>NaN</td>\n",
       "    </tr>\n",
       "    <tr>\n",
       "      <th>1</th>\n",
       "      <td>Taxi Driver</td>\n",
       "      <td>MOVIE</td>\n",
       "      <td>1976</td>\n",
       "      <td>R</td>\n",
       "      <td>113</td>\n",
       "      <td>['crime', 'drama']</td>\n",
       "      <td>['US']</td>\n",
       "      <td>8.3</td>\n",
       "      <td>795222.0</td>\n",
       "      <td>27.612</td>\n",
       "      <td>8.2</td>\n",
       "    </tr>\n",
       "    <tr>\n",
       "      <th>2</th>\n",
       "      <td>Monty Python and the Holy Grail</td>\n",
       "      <td>MOVIE</td>\n",
       "      <td>1975</td>\n",
       "      <td>PG</td>\n",
       "      <td>91</td>\n",
       "      <td>['comedy', 'fantasy']</td>\n",
       "      <td>['GB']</td>\n",
       "      <td>8.2</td>\n",
       "      <td>530877.0</td>\n",
       "      <td>18.216</td>\n",
       "      <td>7.8</td>\n",
       "    </tr>\n",
       "    <tr>\n",
       "      <th>3</th>\n",
       "      <td>Life of Brian</td>\n",
       "      <td>MOVIE</td>\n",
       "      <td>1979</td>\n",
       "      <td>R</td>\n",
       "      <td>94</td>\n",
       "      <td>['comedy']</td>\n",
       "      <td>['GB']</td>\n",
       "      <td>8.0</td>\n",
       "      <td>392419.0</td>\n",
       "      <td>17.505</td>\n",
       "      <td>7.8</td>\n",
       "    </tr>\n",
       "    <tr>\n",
       "      <th>4</th>\n",
       "      <td>The Exorcist</td>\n",
       "      <td>MOVIE</td>\n",
       "      <td>1973</td>\n",
       "      <td>R</td>\n",
       "      <td>133</td>\n",
       "      <td>['horror']</td>\n",
       "      <td>['US']</td>\n",
       "      <td>8.1</td>\n",
       "      <td>391942.0</td>\n",
       "      <td>95.337</td>\n",
       "      <td>7.7</td>\n",
       "    </tr>\n",
       "    <tr>\n",
       "      <th>...</th>\n",
       "      <td>...</td>\n",
       "      <td>...</td>\n",
       "      <td>...</td>\n",
       "      <td>...</td>\n",
       "      <td>...</td>\n",
       "      <td>...</td>\n",
       "      <td>...</td>\n",
       "      <td>...</td>\n",
       "      <td>...</td>\n",
       "      <td>...</td>\n",
       "      <td>...</td>\n",
       "    </tr>\n",
       "    <tr>\n",
       "      <th>5801</th>\n",
       "      <td>Fine Wine</td>\n",
       "      <td>MOVIE</td>\n",
       "      <td>2021</td>\n",
       "      <td>NaN</td>\n",
       "      <td>100</td>\n",
       "      <td>['romance', 'drama']</td>\n",
       "      <td>['NG']</td>\n",
       "      <td>6.9</td>\n",
       "      <td>39.0</td>\n",
       "      <td>0.966</td>\n",
       "      <td>NaN</td>\n",
       "    </tr>\n",
       "    <tr>\n",
       "      <th>5802</th>\n",
       "      <td>Edis Starlight</td>\n",
       "      <td>MOVIE</td>\n",
       "      <td>2021</td>\n",
       "      <td>NaN</td>\n",
       "      <td>74</td>\n",
       "      <td>['music', 'documentation']</td>\n",
       "      <td>[]</td>\n",
       "      <td>NaN</td>\n",
       "      <td>NaN</td>\n",
       "      <td>1.036</td>\n",
       "      <td>8.5</td>\n",
       "    </tr>\n",
       "    <tr>\n",
       "      <th>5803</th>\n",
       "      <td>Clash</td>\n",
       "      <td>MOVIE</td>\n",
       "      <td>2021</td>\n",
       "      <td>NaN</td>\n",
       "      <td>88</td>\n",
       "      <td>['family', 'drama']</td>\n",
       "      <td>['NG', 'CA']</td>\n",
       "      <td>6.5</td>\n",
       "      <td>32.0</td>\n",
       "      <td>0.709</td>\n",
       "      <td>NaN</td>\n",
       "    </tr>\n",
       "    <tr>\n",
       "      <th>5804</th>\n",
       "      <td>Shadow Parties</td>\n",
       "      <td>MOVIE</td>\n",
       "      <td>2021</td>\n",
       "      <td>NaN</td>\n",
       "      <td>116</td>\n",
       "      <td>['action', 'thriller']</td>\n",
       "      <td>[]</td>\n",
       "      <td>6.2</td>\n",
       "      <td>9.0</td>\n",
       "      <td>2.186</td>\n",
       "      <td>NaN</td>\n",
       "    </tr>\n",
       "    <tr>\n",
       "      <th>5805</th>\n",
       "      <td>Mighty Little Bheem: Kite Festival</td>\n",
       "      <td>SHOW</td>\n",
       "      <td>2021</td>\n",
       "      <td>NaN</td>\n",
       "      <td>0</td>\n",
       "      <td>['family', 'comedy', 'animation']</td>\n",
       "      <td>[]</td>\n",
       "      <td>8.8</td>\n",
       "      <td>16.0</td>\n",
       "      <td>0.979</td>\n",
       "      <td>10.0</td>\n",
       "    </tr>\n",
       "  </tbody>\n",
       "</table>\n",
       "<p>5806 rows × 11 columns</p>\n",
       "</div>"
      ],
      "text/plain": [
       "                                    title   type  release_year  \\\n",
       "0     Five Came Back: The Reference Films   SHOW          1945   \n",
       "1                             Taxi Driver  MOVIE          1976   \n",
       "2         Monty Python and the Holy Grail  MOVIE          1975   \n",
       "3                           Life of Brian  MOVIE          1979   \n",
       "4                            The Exorcist  MOVIE          1973   \n",
       "...                                   ...    ...           ...   \n",
       "5801                            Fine Wine  MOVIE          2021   \n",
       "5802                       Edis Starlight  MOVIE          2021   \n",
       "5803                                Clash  MOVIE          2021   \n",
       "5804                       Shadow Parties  MOVIE          2021   \n",
       "5805   Mighty Little Bheem: Kite Festival   SHOW          2021   \n",
       "\n",
       "     age_certification  runtime                             genres  \\\n",
       "0                TV-MA       48                  ['documentation']   \n",
       "1                    R      113                 ['crime', 'drama']   \n",
       "2                   PG       91              ['comedy', 'fantasy']   \n",
       "3                    R       94                         ['comedy']   \n",
       "4                    R      133                         ['horror']   \n",
       "...                ...      ...                                ...   \n",
       "5801               NaN      100               ['romance', 'drama']   \n",
       "5802               NaN       74         ['music', 'documentation']   \n",
       "5803               NaN       88                ['family', 'drama']   \n",
       "5804               NaN      116             ['action', 'thriller']   \n",
       "5805               NaN        0  ['family', 'comedy', 'animation']   \n",
       "\n",
       "     production_countries  imdb_score  imdb_votes  tmdb_popularity  tmdb_score  \n",
       "0                  ['US']         NaN         NaN            0.600         NaN  \n",
       "1                  ['US']         8.3    795222.0           27.612         8.2  \n",
       "2                  ['GB']         8.2    530877.0           18.216         7.8  \n",
       "3                  ['GB']         8.0    392419.0           17.505         7.8  \n",
       "4                  ['US']         8.1    391942.0           95.337         7.7  \n",
       "...                   ...         ...         ...              ...         ...  \n",
       "5801               ['NG']         6.9        39.0            0.966         NaN  \n",
       "5802                   []         NaN         NaN            1.036         8.5  \n",
       "5803         ['NG', 'CA']         6.5        32.0            0.709         NaN  \n",
       "5804                   []         6.2         9.0            2.186         NaN  \n",
       "5805                   []         8.8        16.0            0.979        10.0  \n",
       "\n",
       "[5806 rows x 11 columns]"
      ]
     },
     "execution_count": 8,
     "metadata": {},
     "output_type": "execute_result"
    }
   ],
   "source": [
    "dataset"
   ]
  },
  {
   "cell_type": "code",
   "execution_count": 9,
   "id": "d0fbe6e3",
   "metadata": {},
   "outputs": [],
   "source": [
    "dataset=dataset.replace(to_replace=\"[]\",value=np.nan)\n",
    "\n"
   ]
  },
  {
   "cell_type": "code",
   "execution_count": 10,
   "id": "240d82ec",
   "metadata": {},
   "outputs": [
    {
     "data": {
      "text/html": [
       "<div>\n",
       "<style scoped>\n",
       "    .dataframe tbody tr th:only-of-type {\n",
       "        vertical-align: middle;\n",
       "    }\n",
       "\n",
       "    .dataframe tbody tr th {\n",
       "        vertical-align: top;\n",
       "    }\n",
       "\n",
       "    .dataframe thead th {\n",
       "        text-align: right;\n",
       "    }\n",
       "</style>\n",
       "<table border=\"1\" class=\"dataframe\">\n",
       "  <thead>\n",
       "    <tr style=\"text-align: right;\">\n",
       "      <th></th>\n",
       "      <th>title</th>\n",
       "      <th>type</th>\n",
       "      <th>release_year</th>\n",
       "      <th>age_certification</th>\n",
       "      <th>genres</th>\n",
       "      <th>production_countries</th>\n",
       "    </tr>\n",
       "  </thead>\n",
       "  <tbody>\n",
       "    <tr>\n",
       "      <th>0</th>\n",
       "      <td>Five Came Back: The Reference Films</td>\n",
       "      <td>SHOW</td>\n",
       "      <td>1945</td>\n",
       "      <td>TV-MA</td>\n",
       "      <td>['documentation']</td>\n",
       "      <td>['US']</td>\n",
       "    </tr>\n",
       "    <tr>\n",
       "      <th>1</th>\n",
       "      <td>Taxi Driver</td>\n",
       "      <td>MOVIE</td>\n",
       "      <td>1976</td>\n",
       "      <td>R</td>\n",
       "      <td>['crime', 'drama']</td>\n",
       "      <td>['US']</td>\n",
       "    </tr>\n",
       "    <tr>\n",
       "      <th>2</th>\n",
       "      <td>Monty Python and the Holy Grail</td>\n",
       "      <td>MOVIE</td>\n",
       "      <td>1975</td>\n",
       "      <td>PG</td>\n",
       "      <td>['comedy', 'fantasy']</td>\n",
       "      <td>['GB']</td>\n",
       "    </tr>\n",
       "    <tr>\n",
       "      <th>3</th>\n",
       "      <td>Life of Brian</td>\n",
       "      <td>MOVIE</td>\n",
       "      <td>1979</td>\n",
       "      <td>R</td>\n",
       "      <td>['comedy']</td>\n",
       "      <td>['GB']</td>\n",
       "    </tr>\n",
       "    <tr>\n",
       "      <th>4</th>\n",
       "      <td>The Exorcist</td>\n",
       "      <td>MOVIE</td>\n",
       "      <td>1973</td>\n",
       "      <td>R</td>\n",
       "      <td>['horror']</td>\n",
       "      <td>['US']</td>\n",
       "    </tr>\n",
       "    <tr>\n",
       "      <th>...</th>\n",
       "      <td>...</td>\n",
       "      <td>...</td>\n",
       "      <td>...</td>\n",
       "      <td>...</td>\n",
       "      <td>...</td>\n",
       "      <td>...</td>\n",
       "    </tr>\n",
       "    <tr>\n",
       "      <th>5801</th>\n",
       "      <td>Fine Wine</td>\n",
       "      <td>MOVIE</td>\n",
       "      <td>2021</td>\n",
       "      <td>NaN</td>\n",
       "      <td>['romance', 'drama']</td>\n",
       "      <td>['NG']</td>\n",
       "    </tr>\n",
       "    <tr>\n",
       "      <th>5802</th>\n",
       "      <td>Edis Starlight</td>\n",
       "      <td>MOVIE</td>\n",
       "      <td>2021</td>\n",
       "      <td>NaN</td>\n",
       "      <td>['music', 'documentation']</td>\n",
       "      <td>NaN</td>\n",
       "    </tr>\n",
       "    <tr>\n",
       "      <th>5803</th>\n",
       "      <td>Clash</td>\n",
       "      <td>MOVIE</td>\n",
       "      <td>2021</td>\n",
       "      <td>NaN</td>\n",
       "      <td>['family', 'drama']</td>\n",
       "      <td>['NG', 'CA']</td>\n",
       "    </tr>\n",
       "    <tr>\n",
       "      <th>5804</th>\n",
       "      <td>Shadow Parties</td>\n",
       "      <td>MOVIE</td>\n",
       "      <td>2021</td>\n",
       "      <td>NaN</td>\n",
       "      <td>['action', 'thriller']</td>\n",
       "      <td>NaN</td>\n",
       "    </tr>\n",
       "    <tr>\n",
       "      <th>5805</th>\n",
       "      <td>Mighty Little Bheem: Kite Festival</td>\n",
       "      <td>SHOW</td>\n",
       "      <td>2021</td>\n",
       "      <td>NaN</td>\n",
       "      <td>['family', 'comedy', 'animation']</td>\n",
       "      <td>NaN</td>\n",
       "    </tr>\n",
       "  </tbody>\n",
       "</table>\n",
       "<p>5806 rows × 6 columns</p>\n",
       "</div>"
      ],
      "text/plain": [
       "                                    title   type  release_year  \\\n",
       "0     Five Came Back: The Reference Films   SHOW          1945   \n",
       "1                             Taxi Driver  MOVIE          1976   \n",
       "2         Monty Python and the Holy Grail  MOVIE          1975   \n",
       "3                           Life of Brian  MOVIE          1979   \n",
       "4                            The Exorcist  MOVIE          1973   \n",
       "...                                   ...    ...           ...   \n",
       "5801                            Fine Wine  MOVIE          2021   \n",
       "5802                       Edis Starlight  MOVIE          2021   \n",
       "5803                                Clash  MOVIE          2021   \n",
       "5804                       Shadow Parties  MOVIE          2021   \n",
       "5805   Mighty Little Bheem: Kite Festival   SHOW          2021   \n",
       "\n",
       "     age_certification                             genres production_countries  \n",
       "0                TV-MA                  ['documentation']               ['US']  \n",
       "1                    R                 ['crime', 'drama']               ['US']  \n",
       "2                   PG              ['comedy', 'fantasy']               ['GB']  \n",
       "3                    R                         ['comedy']               ['GB']  \n",
       "4                    R                         ['horror']               ['US']  \n",
       "...                ...                                ...                  ...  \n",
       "5801               NaN               ['romance', 'drama']               ['NG']  \n",
       "5802               NaN         ['music', 'documentation']                  NaN  \n",
       "5803               NaN                ['family', 'drama']         ['NG', 'CA']  \n",
       "5804               NaN             ['action', 'thriller']                  NaN  \n",
       "5805               NaN  ['family', 'comedy', 'animation']                  NaN  \n",
       "\n",
       "[5806 rows x 6 columns]"
      ]
     },
     "execution_count": 10,
     "metadata": {},
     "output_type": "execute_result"
    }
   ],
   "source": [
    "x=dataset.drop(columns=['runtime','imdb_score','tmdb_score','imdb_votes','tmdb_popularity'],axis=1).copy()\n",
    "x\n",
    "\n"
   ]
  },
  {
   "cell_type": "code",
   "execution_count": 11,
   "id": "a47f64e1",
   "metadata": {},
   "outputs": [],
   "source": [
    "x_list=['runtime','imdb_votes','tmdb_popularity','tmdb_score']\n"
   ]
  },
  {
   "cell_type": "code",
   "execution_count": 12,
   "id": "6d63d7ce",
   "metadata": {},
   "outputs": [
    {
     "data": {
      "text/html": [
       "<div>\n",
       "<style scoped>\n",
       "    .dataframe tbody tr th:only-of-type {\n",
       "        vertical-align: middle;\n",
       "    }\n",
       "\n",
       "    .dataframe tbody tr th {\n",
       "        vertical-align: top;\n",
       "    }\n",
       "\n",
       "    .dataframe thead th {\n",
       "        text-align: right;\n",
       "    }\n",
       "</style>\n",
       "<table border=\"1\" class=\"dataframe\">\n",
       "  <thead>\n",
       "    <tr style=\"text-align: right;\">\n",
       "      <th></th>\n",
       "      <th>runtime</th>\n",
       "      <th>imdb_votes</th>\n",
       "      <th>tmdb_popularity</th>\n",
       "      <th>tmdb_score</th>\n",
       "    </tr>\n",
       "  </thead>\n",
       "  <tbody>\n",
       "    <tr>\n",
       "      <th>0</th>\n",
       "      <td>48</td>\n",
       "      <td>NaN</td>\n",
       "      <td>0.600</td>\n",
       "      <td>NaN</td>\n",
       "    </tr>\n",
       "    <tr>\n",
       "      <th>1</th>\n",
       "      <td>113</td>\n",
       "      <td>795222.0</td>\n",
       "      <td>27.612</td>\n",
       "      <td>8.2</td>\n",
       "    </tr>\n",
       "    <tr>\n",
       "      <th>2</th>\n",
       "      <td>91</td>\n",
       "      <td>530877.0</td>\n",
       "      <td>18.216</td>\n",
       "      <td>7.8</td>\n",
       "    </tr>\n",
       "    <tr>\n",
       "      <th>3</th>\n",
       "      <td>94</td>\n",
       "      <td>392419.0</td>\n",
       "      <td>17.505</td>\n",
       "      <td>7.8</td>\n",
       "    </tr>\n",
       "    <tr>\n",
       "      <th>4</th>\n",
       "      <td>133</td>\n",
       "      <td>391942.0</td>\n",
       "      <td>95.337</td>\n",
       "      <td>7.7</td>\n",
       "    </tr>\n",
       "  </tbody>\n",
       "</table>\n",
       "</div>"
      ],
      "text/plain": [
       "   runtime  imdb_votes  tmdb_popularity  tmdb_score\n",
       "0       48         NaN            0.600         NaN\n",
       "1      113    795222.0           27.612         8.2\n",
       "2       91    530877.0           18.216         7.8\n",
       "3       94    392419.0           17.505         7.8\n",
       "4      133    391942.0           95.337         7.7"
      ]
     },
     "execution_count": 12,
     "metadata": {},
     "output_type": "execute_result"
    }
   ],
   "source": [
    "x_numeric=dataset[x_list]\n",
    "x_numeric.head()"
   ]
  },
  {
   "cell_type": "code",
   "execution_count": 13,
   "id": "0674289b",
   "metadata": {},
   "outputs": [
    {
     "data": {
      "text/plain": [
       "array([[4.80000e+01,         nan, 6.00000e-01,         nan],\n",
       "       [1.13000e+02, 7.95222e+05, 2.76120e+01, 8.20000e+00],\n",
       "       [9.10000e+01, 5.30877e+05, 1.82160e+01, 7.80000e+00],\n",
       "       ...,\n",
       "       [8.80000e+01, 3.20000e+01, 7.09000e-01,         nan],\n",
       "       [1.16000e+02, 9.00000e+00, 2.18600e+00,         nan],\n",
       "       [0.00000e+00, 1.60000e+01, 9.79000e-01, 1.00000e+01]])"
      ]
     },
     "execution_count": 13,
     "metadata": {},
     "output_type": "execute_result"
    }
   ],
   "source": [
    "x_numeric=x_numeric.values\n",
    "x_numeric"
   ]
  },
  {
   "cell_type": "code",
   "execution_count": 14,
   "id": "7b30e6de",
   "metadata": {},
   "outputs": [],
   "source": [
    "y=dataset['imdb_score'].copy()\n",
    "y=y.replace(to_replace=np.nan,value=5.5)"
   ]
  },
  {
   "cell_type": "code",
   "execution_count": 15,
   "id": "a0dc8a12",
   "metadata": {},
   "outputs": [
    {
     "data": {
      "text/plain": [
       "(5806,)"
      ]
     },
     "execution_count": 15,
     "metadata": {},
     "output_type": "execute_result"
    }
   ],
   "source": [
    "y.shape"
   ]
  },
  {
   "cell_type": "code",
   "execution_count": 16,
   "id": "149e7638",
   "metadata": {},
   "outputs": [],
   "source": [
    "y=y.values"
   ]
  },
  {
   "cell_type": "code",
   "execution_count": 17,
   "id": "93953e82",
   "metadata": {},
   "outputs": [],
   "source": [
    "x=x.values"
   ]
  },
  {
   "cell_type": "code",
   "execution_count": 18,
   "id": "c79b4fb0",
   "metadata": {},
   "outputs": [
    {
     "name": "stdout",
     "output_type": "stream",
     "text": [
      "[['Five Came Back: The Reference Films' 'SHOW' 1945 'TV-MA'\n",
      "  \"['documentation']\" \"['US']\"]\n",
      " ['Taxi Driver' 'MOVIE' 1976 'R' \"['crime', 'drama']\" \"['US']\"]\n",
      " ['Monty Python and the Holy Grail' 'MOVIE' 1975 'PG'\n",
      "  \"['comedy', 'fantasy']\" \"['GB']\"]\n",
      " ...\n",
      " ['Clash' 'MOVIE' 2021 nan \"['family', 'drama']\" \"['NG', 'CA']\"]\n",
      " ['Shadow Parties' 'MOVIE' 2021 nan \"['action', 'thriller']\" nan]\n",
      " ['Mighty Little Bheem: Kite Festival' 'SHOW' 2021 nan\n",
      "  \"['family', 'comedy', 'animation']\" nan]]\n"
     ]
    }
   ],
   "source": [
    "print(x)"
   ]
  },
  {
   "cell_type": "code",
   "execution_count": 19,
   "id": "a3dffbda",
   "metadata": {},
   "outputs": [
    {
     "data": {
      "text/plain": [
       "(5806, 6)"
      ]
     },
     "execution_count": 19,
     "metadata": {},
     "output_type": "execute_result"
    }
   ],
   "source": [
    "x.shape"
   ]
  },
  {
   "cell_type": "code",
   "execution_count": 20,
   "id": "7dac4b4f",
   "metadata": {},
   "outputs": [
    {
     "name": "stdout",
     "output_type": "stream",
     "text": [
      "[5.5 8.3 8.2 ... 6.5 6.2 8.8]\n"
     ]
    }
   ],
   "source": [
    "print(y)"
   ]
  },
  {
   "cell_type": "code",
   "execution_count": 21,
   "id": "c6ff82bd",
   "metadata": {},
   "outputs": [
    {
     "data": {
      "text/plain": [
       "5806"
      ]
     },
     "execution_count": 21,
     "metadata": {},
     "output_type": "execute_result"
    }
   ],
   "source": [
    "y.size"
   ]
  },
  {
   "cell_type": "markdown",
   "id": "cdc735a4",
   "metadata": {},
   "source": [
    "# data preprocessing of numerical data"
   ]
  },
  {
   "cell_type": "code",
   "execution_count": 22,
   "id": "f3d51967",
   "metadata": {},
   "outputs": [
    {
     "data": {
      "text/plain": [
       "array([['Five Came Back: The Reference Films'],\n",
       "       ['SHOW'],\n",
       "       [1945],\n",
       "       ...,\n",
       "       [nan],\n",
       "       [\"['family', 'comedy', 'animation']\"],\n",
       "       [nan]], dtype=object)"
      ]
     },
     "execution_count": 22,
     "metadata": {},
     "output_type": "execute_result"
    }
   ],
   "source": [
    "x.reshape(-1,1)"
   ]
  },
  {
   "cell_type": "code",
   "execution_count": 23,
   "id": "67d830fd",
   "metadata": {},
   "outputs": [
    {
     "data": {
      "text/plain": [
       "array([['Five Came Back: The Reference Films', 'SHOW', 1945, 'TV-MA',\n",
       "        \"['documentation']\", \"['US']\"],\n",
       "       ['Taxi Driver', 'MOVIE', 1976, 'R', \"['crime', 'drama']\",\n",
       "        \"['US']\"],\n",
       "       ['Monty Python and the Holy Grail', 'MOVIE', 1975, 'PG',\n",
       "        \"['comedy', 'fantasy']\", \"['GB']\"],\n",
       "       ...,\n",
       "       ['Clash', 'MOVIE', 2021, nan, \"['family', 'drama']\",\n",
       "        \"['NG', 'CA']\"],\n",
       "       ['Shadow Parties', 'MOVIE', 2021, nan, \"['action', 'thriller']\",\n",
       "        nan],\n",
       "       ['Mighty Little Bheem: Kite Festival', 'SHOW', 2021, nan,\n",
       "        \"['family', 'comedy', 'animation']\", nan]], dtype=object)"
      ]
     },
     "execution_count": 23,
     "metadata": {},
     "output_type": "execute_result"
    }
   ],
   "source": [
    "x"
   ]
  },
  {
   "cell_type": "code",
   "execution_count": 24,
   "id": "abc96376",
   "metadata": {},
   "outputs": [],
   "source": [
    "from sklearn.impute import SimpleImputer "
   ]
  },
  {
   "cell_type": "code",
   "execution_count": 25,
   "id": "8fd5aaf8",
   "metadata": {},
   "outputs": [],
   "source": [
    "imputer=SimpleImputer(missing_values=np.nan,strategy='mean')\n"
   ]
  },
  {
   "cell_type": "code",
   "execution_count": 26,
   "id": "e34aa332",
   "metadata": {},
   "outputs": [
    {
     "data": {
      "text/plain": [
       "SimpleImputer()"
      ]
     },
     "execution_count": 26,
     "metadata": {},
     "output_type": "execute_result"
    }
   ],
   "source": [
    "imputer.fit(x_numeric[:,1:])"
   ]
  },
  {
   "cell_type": "code",
   "execution_count": 27,
   "id": "9c20003a",
   "metadata": {},
   "outputs": [],
   "source": [
    "x_numeric[:,1:]=imputer.transform(x_numeric[:,1:])"
   ]
  },
  {
   "cell_type": "code",
   "execution_count": 28,
   "id": "980727ea",
   "metadata": {},
   "outputs": [
    {
     "data": {
      "text/plain": [
       "array([[2.34071950e+04, 6.00000000e-01, 6.81803936e+00],\n",
       "       [7.95222000e+05, 2.76120000e+01, 8.20000000e+00],\n",
       "       [5.30877000e+05, 1.82160000e+01, 7.80000000e+00],\n",
       "       ...,\n",
       "       [3.20000000e+01, 7.09000000e-01, 6.81803936e+00],\n",
       "       [9.00000000e+00, 2.18600000e+00, 6.81803936e+00],\n",
       "       [1.60000000e+01, 9.79000000e-01, 1.00000000e+01]])"
      ]
     },
     "execution_count": 28,
     "metadata": {},
     "output_type": "execute_result"
    }
   ],
   "source": [
    "x_numeric[:,1:]"
   ]
  },
  {
   "cell_type": "code",
   "execution_count": 29,
   "id": "cb98b92a",
   "metadata": {},
   "outputs": [
    {
     "data": {
      "text/plain": [
       "array([[4.80000000e+01, 2.34071950e+04, 6.00000000e-01, 6.81803936e+00],\n",
       "       [1.13000000e+02, 7.95222000e+05, 2.76120000e+01, 8.20000000e+00],\n",
       "       [9.10000000e+01, 5.30877000e+05, 1.82160000e+01, 7.80000000e+00],\n",
       "       ...,\n",
       "       [8.80000000e+01, 3.20000000e+01, 7.09000000e-01, 6.81803936e+00],\n",
       "       [1.16000000e+02, 9.00000000e+00, 2.18600000e+00, 6.81803936e+00],\n",
       "       [0.00000000e+00, 1.60000000e+01, 9.79000000e-01, 1.00000000e+01]])"
      ]
     },
     "execution_count": 29,
     "metadata": {},
     "output_type": "execute_result"
    }
   ],
   "source": [
    "X=x_numeric.copy()\n",
    "X"
   ]
  },
  {
   "cell_type": "code",
   "execution_count": 30,
   "id": "f5fadb5c",
   "metadata": {},
   "outputs": [
    {
     "data": {
      "text/plain": [
       "array([['Five Came Back: The Reference Films', 'SHOW', 1945, 'TV-MA',\n",
       "        \"['documentation']\", \"['US']\"],\n",
       "       ['Taxi Driver', 'MOVIE', 1976, 'R', \"['crime', 'drama']\",\n",
       "        \"['US']\"],\n",
       "       ['Monty Python and the Holy Grail', 'MOVIE', 1975, 'PG',\n",
       "        \"['comedy', 'fantasy']\", \"['GB']\"],\n",
       "       ...,\n",
       "       ['Clash', 'MOVIE', 2021, nan, \"['family', 'drama']\",\n",
       "        \"['NG', 'CA']\"],\n",
       "       ['Shadow Parties', 'MOVIE', 2021, nan, \"['action', 'thriller']\",\n",
       "        nan],\n",
       "       ['Mighty Little Bheem: Kite Festival', 'SHOW', 2021, nan,\n",
       "        \"['family', 'comedy', 'animation']\", nan]], dtype=object)"
      ]
     },
     "execution_count": 30,
     "metadata": {},
     "output_type": "execute_result"
    }
   ],
   "source": [
    "x"
   ]
  },
  {
   "cell_type": "markdown",
   "id": "ef8bc63c",
   "metadata": {},
   "source": [
    "# data preprocessing of string data"
   ]
  },
  {
   "cell_type": "code",
   "execution_count": 31,
   "id": "c582058c",
   "metadata": {},
   "outputs": [],
   "source": [
    "imp=SimpleImputer(missing_values=np.nan,strategy=\"most_frequent\")"
   ]
  },
  {
   "cell_type": "code",
   "execution_count": 32,
   "id": "6df8a7a5",
   "metadata": {},
   "outputs": [
    {
     "data": {
      "text/plain": [
       "SimpleImputer(strategy='most_frequent')"
      ]
     },
     "execution_count": 32,
     "metadata": {},
     "output_type": "execute_result"
    }
   ],
   "source": [
    "imp.fit(x[:,1:])"
   ]
  },
  {
   "cell_type": "code",
   "execution_count": 33,
   "id": "6b44ed33",
   "metadata": {},
   "outputs": [],
   "source": [
    "x[:,1:]=imp.transform(x[:,1:])"
   ]
  },
  {
   "cell_type": "code",
   "execution_count": 34,
   "id": "1d8ed9e0",
   "metadata": {},
   "outputs": [
    {
     "data": {
      "text/plain": [
       "array([['SHOW', 1945, 'TV-MA', \"['documentation']\", \"['US']\"],\n",
       "       ['MOVIE', 1976, 'R', \"['crime', 'drama']\", \"['US']\"],\n",
       "       ['MOVIE', 1975, 'PG', \"['comedy', 'fantasy']\", \"['GB']\"],\n",
       "       ...,\n",
       "       ['MOVIE', 2021, 'TV-MA', \"['family', 'drama']\", \"['NG', 'CA']\"],\n",
       "       ['MOVIE', 2021, 'TV-MA', \"['action', 'thriller']\", \"['US']\"],\n",
       "       ['SHOW', 2021, 'TV-MA', \"['family', 'comedy', 'animation']\",\n",
       "        \"['US']\"]], dtype=object)"
      ]
     },
     "execution_count": 34,
     "metadata": {},
     "output_type": "execute_result"
    }
   ],
   "source": [
    "x[:,1:]"
   ]
  },
  {
   "cell_type": "code",
   "execution_count": 35,
   "id": "a08027bd",
   "metadata": {},
   "outputs": [
    {
     "data": {
      "text/plain": [
       "(5806, 4)"
      ]
     },
     "execution_count": 35,
     "metadata": {},
     "output_type": "execute_result"
    }
   ],
   "source": [
    "X.shape"
   ]
  },
  {
   "cell_type": "code",
   "execution_count": 36,
   "id": "0b2fa9b8",
   "metadata": {},
   "outputs": [
    {
     "data": {
      "text/plain": [
       "(5806, 6)"
      ]
     },
     "execution_count": 36,
     "metadata": {},
     "output_type": "execute_result"
    }
   ],
   "source": [
    "x.shape"
   ]
  },
  {
   "cell_type": "code",
   "execution_count": 37,
   "id": "d7ca95d4",
   "metadata": {},
   "outputs": [],
   "source": [
    "final=np.concatenate((x,X),axis=1)"
   ]
  },
  {
   "cell_type": "code",
   "execution_count": 38,
   "id": "c84f175c",
   "metadata": {},
   "outputs": [
    {
     "data": {
      "text/plain": [
       "array([['Five Came Back: The Reference Films', 'SHOW', 1945, ...,\n",
       "        23407.194987659008, 0.6, 6.818039358600582],\n",
       "       ['Taxi Driver', 'MOVIE', 1976, ..., 795222.0, 27.612, 8.2],\n",
       "       ['Monty Python and the Holy Grail', 'MOVIE', 1975, ..., 530877.0,\n",
       "        18.216, 7.8],\n",
       "       ...,\n",
       "       ['Clash', 'MOVIE', 2021, ..., 32.0, 0.709, 6.818039358600582],\n",
       "       ['Shadow Parties', 'MOVIE', 2021, ..., 9.0, 2.186,\n",
       "        6.818039358600582],\n",
       "       ['Mighty Little Bheem: Kite Festival', 'SHOW', 2021, ..., 16.0,\n",
       "        0.979, 10.0]], dtype=object)"
      ]
     },
     "execution_count": 38,
     "metadata": {},
     "output_type": "execute_result"
    }
   ],
   "source": [
    "final"
   ]
  },
  {
   "cell_type": "code",
   "execution_count": 39,
   "id": "ccdf33f7",
   "metadata": {},
   "outputs": [
    {
     "data": {
      "text/plain": [
       "array([['Neon Genesis Evangelion', 'SHOW', 1995, 'TV-14',\n",
       "        \"['scifi', 'action', 'drama', 'thriller', 'fantasy', 'animation']\",\n",
       "        \"['JP']\", 24.0, 64727.0, 51.993, 8.6]], dtype=object)"
      ]
     },
     "execution_count": 39,
     "metadata": {},
     "output_type": "execute_result"
    }
   ],
   "source": [
    "final[120:121,:]"
   ]
  },
  {
   "cell_type": "code",
   "execution_count": 40,
   "id": "d041bf3d",
   "metadata": {},
   "outputs": [
    {
     "data": {
      "text/plain": [
       "5806"
      ]
     },
     "execution_count": 40,
     "metadata": {},
     "output_type": "execute_result"
    }
   ],
   "source": [
    "y.size"
   ]
  },
  {
   "cell_type": "markdown",
   "id": "c8f6ee96",
   "metadata": {},
   "source": [
    "# preprocessing of lable(predicted data)"
   ]
  },
  {
   "cell_type": "code",
   "execution_count": 41,
   "id": "85a56a0a",
   "metadata": {},
   "outputs": [],
   "source": [
    "#y=y.reshape(1,-1)"
   ]
  },
  {
   "cell_type": "code",
   "execution_count": 42,
   "id": "3651e11e",
   "metadata": {},
   "outputs": [],
   "source": [
    "#y.size"
   ]
  },
  {
   "cell_type": "code",
   "execution_count": 43,
   "id": "1da72a5c",
   "metadata": {},
   "outputs": [],
   "source": [
    "#y"
   ]
  },
  {
   "cell_type": "code",
   "execution_count": 44,
   "id": "e8f8354c",
   "metadata": {},
   "outputs": [],
   "source": [
    "#imp=SimpleImputer(missing_values=np.nan,strategy=\"most_frequent\")"
   ]
  },
  {
   "cell_type": "code",
   "execution_count": 45,
   "id": "cf64b4ff",
   "metadata": {},
   "outputs": [],
   "source": [
    "#imp.fit(y)"
   ]
  },
  {
   "cell_type": "code",
   "execution_count": 46,
   "id": "27234d4d",
   "metadata": {},
   "outputs": [],
   "source": [
    "#y=imp.transform(y)"
   ]
  },
  {
   "cell_type": "code",
   "execution_count": 47,
   "id": "4b148bd8",
   "metadata": {},
   "outputs": [],
   "source": [
    "#y"
   ]
  },
  {
   "cell_type": "code",
   "execution_count": 48,
   "id": "fc7bf256",
   "metadata": {},
   "outputs": [],
   "source": [
    "#y.size"
   ]
  },
  {
   "cell_type": "markdown",
   "id": "6021f3b0",
   "metadata": {},
   "source": [
    "# lable _ encoding"
   ]
  },
  {
   "cell_type": "code",
   "execution_count": 49,
   "id": "1779d70e",
   "metadata": {},
   "outputs": [],
   "source": [
    "from sklearn.preprocessing import LabelEncoder\n",
    "le1=LabelEncoder()#creating object\n",
    "le2=LabelEncoder()#creating object\n",
    "le3=LabelEncoder()#creating object\n",
    "le4=LabelEncoder()#creating object\n",
    "le5=LabelEncoder()#creating object\n",
    "le6=LabelEncoder()#creating object\n",
    "final[:,0]=le1.fit_transform(final[:,1])\n",
    "final[:,1]=le2.fit_transform(final[:,1])\n",
    "final[:,3]=le3.fit_transform(final[:,1])\n",
    "final[:,4]=le4.fit_transform(final[:,1])\n",
    "final[:,5]=le5.fit_transform(final[:,1])\n",
    "y=le6.fit_transform(y)\n"
   ]
  },
  {
   "cell_type": "code",
   "execution_count": 50,
   "id": "86ed6270",
   "metadata": {},
   "outputs": [
    {
     "name": "stdout",
     "output_type": "stream",
     "text": [
      "[[1 1 1945 ... 23407.194987659008 0.6 6.818039358600582]\n",
      " [0 0 1976 ... 795222.0 27.612 8.2]\n",
      " [0 0 1975 ... 530877.0 18.216 7.8]\n",
      " ...\n",
      " [0 0 2021 ... 32.0 0.709 6.818039358600582]\n",
      " [0 0 2021 ... 9.0 2.186 6.818039358600582]\n",
      " [1 1 2021 ... 16.0 0.979 10.0]]\n"
     ]
    }
   ],
   "source": [
    "print(final)"
   ]
  },
  {
   "cell_type": "code",
   "execution_count": 51,
   "id": "1dbb5763",
   "metadata": {},
   "outputs": [
    {
     "name": "stdout",
     "output_type": "stream",
     "text": [
      "[40 68 67 ... 50 47 73]\n"
     ]
    }
   ],
   "source": [
    "print(y)"
   ]
  },
  {
   "cell_type": "code",
   "execution_count": 52,
   "id": "ac5e5534",
   "metadata": {},
   "outputs": [],
   "source": [
    "y=y.astype(int)"
   ]
  },
  {
   "cell_type": "code",
   "execution_count": 53,
   "id": "775628a1",
   "metadata": {},
   "outputs": [
    {
     "data": {
      "text/plain": [
       "array([40, 68, 67, ..., 50, 47, 73])"
      ]
     },
     "execution_count": 53,
     "metadata": {},
     "output_type": "execute_result"
    }
   ],
   "source": [
    "y"
   ]
  },
  {
   "cell_type": "code",
   "execution_count": 54,
   "id": "d80c180a",
   "metadata": {},
   "outputs": [
    {
     "data": {
      "text/plain": [
       "(5806, 10)"
      ]
     },
     "execution_count": 54,
     "metadata": {},
     "output_type": "execute_result"
    }
   ],
   "source": [
    "final.shape"
   ]
  },
  {
   "cell_type": "code",
   "execution_count": 55,
   "id": "12735a49",
   "metadata": {},
   "outputs": [
    {
     "data": {
      "text/plain": [
       "(5806,)"
      ]
     },
     "execution_count": 55,
     "metadata": {},
     "output_type": "execute_result"
    }
   ],
   "source": [
    "y.shape"
   ]
  },
  {
   "cell_type": "markdown",
   "id": "9d274c3b",
   "metadata": {},
   "source": [
    "# spliting dataset into training and testing set"
   ]
  },
  {
   "cell_type": "code",
   "execution_count": 56,
   "id": "c5df48b2",
   "metadata": {},
   "outputs": [],
   "source": [
    "from sklearn.model_selection import train_test_split"
   ]
  },
  {
   "cell_type": "code",
   "execution_count": 57,
   "id": "f76e3708",
   "metadata": {},
   "outputs": [],
   "source": [
    "final_train,final_test,y_train,y_test=train_test_split(final,y,test_size=0.2,random_state=0)"
   ]
  },
  {
   "cell_type": "code",
   "execution_count": 58,
   "id": "c50dbe9e",
   "metadata": {},
   "outputs": [],
   "source": [
    "# print(final_train)"
   ]
  },
  {
   "cell_type": "code",
   "execution_count": 59,
   "id": "6c89f53c",
   "metadata": {},
   "outputs": [
    {
     "name": "stdout",
     "output_type": "stream",
     "text": [
      "[[1 1 2016 ... 1769.0 22.672 8.2]\n",
      " [1 1 2021 ... 14040.0 21.349 7.3]\n",
      " [0 0 2012 ... 286.0 2.552 4.9]\n",
      " ...\n",
      " [0 0 2021 ... 804.0 7.246 8.1]\n",
      " [0 0 2019 ... 23407.194987659008 2.218 6.8]\n",
      " [1 1 2017 ... 2168.0 11.357 7.3]]\n"
     ]
    }
   ],
   "source": [
    "print(final_test)"
   ]
  },
  {
   "cell_type": "code",
   "execution_count": 60,
   "id": "45aecb72",
   "metadata": {},
   "outputs": [
    {
     "name": "stdout",
     "output_type": "stream",
     "text": [
      "[36 51 48 ... 57 44 51]\n"
     ]
    }
   ],
   "source": [
    "print(y_train)"
   ]
  },
  {
   "cell_type": "code",
   "execution_count": 61,
   "id": "10c7a7e9",
   "metadata": {},
   "outputs": [
    {
     "name": "stdout",
     "output_type": "stream",
     "text": [
      "[64 60 37 ... 49 40 51]\n"
     ]
    }
   ],
   "source": [
    "print(y_test)"
   ]
  },
  {
   "cell_type": "markdown",
   "id": "621d20c7",
   "metadata": {},
   "source": [
    "# feature scaling"
   ]
  },
  {
   "cell_type": "code",
   "execution_count": 62,
   "id": "cb91004a",
   "metadata": {},
   "outputs": [],
   "source": [
    "from sklearn.preprocessing import StandardScaler\n",
    "sc=StandardScaler()\n",
    "final_train=sc.fit_transform(final_train)\n",
    "final_test=sc.fit_transform(final_test)"
   ]
  },
  {
   "cell_type": "code",
   "execution_count": 63,
   "id": "a3c441eb",
   "metadata": {},
   "outputs": [
    {
     "data": {
      "text/plain": [
       "array([[-0.73644059, -0.73644059,  0.27378269, ..., -0.18921012,\n",
       "        -0.2038601 , -1.68221085],\n",
       "       [ 1.35788279,  1.35788279,  0.82211555, ..., -0.27414938,\n",
       "         0.0076324 , -0.0962011 ],\n",
       "       [ 1.35788279,  1.35788279,  0.41086591, ..., -0.25979247,\n",
       "         0.13016947,  1.13736204],\n",
       "       ...,\n",
       "       [-0.73644059, -0.73644059, -0.13746695, ...,  0.01214856,\n",
       "        -0.23088065,  0.34435717],\n",
       "       [-0.73644059, -0.73644059,  0.13669948, ..., -0.2528708 ,\n",
       "        -0.22581338, -0.44864771],\n",
       "       [-0.73644059, -0.73644059,  0.13669948, ..., -0.27444119,\n",
       "        -0.32127132,  1.04925039]])"
      ]
     },
     "execution_count": 63,
     "metadata": {},
     "output_type": "execute_result"
    }
   ],
   "source": [
    "final_train"
   ]
  },
  {
   "cell_type": "code",
   "execution_count": 64,
   "id": "415410d2",
   "metadata": {},
   "outputs": [
    {
     "data": {
      "text/plain": [
       "array([[ 1.34415895,  1.34415895, -0.00751806, ..., -0.29102737,\n",
       "         0.00279766,  1.1667827 ],\n",
       "       [ 1.34415895,  1.34415895,  0.66448065, ..., -0.11873031,\n",
       "        -0.01657492,  0.38693886],\n",
       "       [-0.74395963, -0.74395963, -0.54511703, ..., -0.31185016,\n",
       "        -0.29181792, -1.69264473],\n",
       "       ...,\n",
       "       [-0.74395963, -0.74395963,  0.66448065, ..., -0.30457693,\n",
       "        -0.22308405,  1.08013339],\n",
       "       [-0.74395963, -0.74395963,  0.39568117, ...,  0.01279444,\n",
       "        -0.29670866, -0.04630772],\n",
       "       [ 1.34415895,  1.34415895,  0.12688168, ..., -0.28542501,\n",
       "        -0.162887  ,  0.38693886]])"
      ]
     },
     "execution_count": 64,
     "metadata": {},
     "output_type": "execute_result"
    }
   ],
   "source": [
    "final_test"
   ]
  },
  {
   "cell_type": "markdown",
   "id": "7f68b5cd",
   "metadata": {},
   "source": [
    "# training dataset"
   ]
  },
  {
   "cell_type": "code",
   "execution_count": 66,
   "id": "94bc1592",
   "metadata": {},
   "outputs": [
    {
     "ename": "ValueError",
     "evalue": "Invalid classes inferred from unique values of `y`.  Expected: [ 0  1  2  3  4  5  6  7  8  9 10 11 12 13 14 15 16 17 18 19 20 21 22 23\n 24 25 26 27 28 29 30 31 32 33 34 35 36 37 38 39 40 41 42 43 44 45 46 47\n 48 49 50 51 52 53 54 55 56 57 58 59 60 61 62 63 64 65 66 67 68 69 70 71\n 72 73 74 75 76 77 78 79], got [ 0  1  2  3  5  6  7  8  9 10 11 12 13 14 15 16 17 18 19 20 21 22 23 24\n 25 26 27 28 29 30 31 32 33 34 35 36 37 38 39 40 41 42 43 44 45 46 47 48\n 49 50 51 52 53 54 55 56 57 58 59 60 61 62 63 64 65 66 67 68 69 70 71 72\n 73 74 75 76 77 78 79 80]",
     "output_type": "error",
     "traceback": [
      "\u001b[1;31m---------------------------------------------------------------------------\u001b[0m",
      "\u001b[1;31mValueError\u001b[0m                                Traceback (most recent call last)",
      "\u001b[1;32m~\\AppData\\Local\\Temp/ipykernel_2152/3974240762.py\u001b[0m in \u001b[0;36m<module>\u001b[1;34m\u001b[0m\n\u001b[0;32m      1\u001b[0m \u001b[1;32mfrom\u001b[0m \u001b[0mxgboost\u001b[0m \u001b[1;32mimport\u001b[0m \u001b[0mXGBClassifier\u001b[0m\u001b[1;33m\u001b[0m\u001b[1;33m\u001b[0m\u001b[0m\n\u001b[0;32m      2\u001b[0m \u001b[0mmodel\u001b[0m\u001b[1;33m=\u001b[0m\u001b[0mXGBClassifier\u001b[0m\u001b[1;33m(\u001b[0m\u001b[1;33m)\u001b[0m\u001b[1;33m\u001b[0m\u001b[1;33m\u001b[0m\u001b[0m\n\u001b[1;32m----> 3\u001b[1;33m \u001b[0mmodel\u001b[0m\u001b[1;33m.\u001b[0m\u001b[0mfit\u001b[0m\u001b[1;33m(\u001b[0m\u001b[0mfinal_train\u001b[0m\u001b[1;33m,\u001b[0m\u001b[0my_train\u001b[0m\u001b[1;33m[\u001b[0m\u001b[1;33m:\u001b[0m\u001b[1;33m-\u001b[0m\u001b[1;36m1\u001b[0m\u001b[1;33m]\u001b[0m\u001b[1;33m)\u001b[0m\u001b[1;33m\u001b[0m\u001b[1;33m\u001b[0m\u001b[0m\n\u001b[0m",
      "\u001b[1;32m~\\AppData\\Roaming\\Python\\Python39\\site-packages\\xgboost\\core.py\u001b[0m in \u001b[0;36minner_f\u001b[1;34m(*args, **kwargs)\u001b[0m\n\u001b[0;32m    530\u001b[0m         \u001b[1;32mfor\u001b[0m \u001b[0mk\u001b[0m\u001b[1;33m,\u001b[0m \u001b[0marg\u001b[0m \u001b[1;32min\u001b[0m \u001b[0mzip\u001b[0m\u001b[1;33m(\u001b[0m\u001b[0msig\u001b[0m\u001b[1;33m.\u001b[0m\u001b[0mparameters\u001b[0m\u001b[1;33m,\u001b[0m \u001b[0margs\u001b[0m\u001b[1;33m)\u001b[0m\u001b[1;33m:\u001b[0m\u001b[1;33m\u001b[0m\u001b[1;33m\u001b[0m\u001b[0m\n\u001b[0;32m    531\u001b[0m             \u001b[0mkwargs\u001b[0m\u001b[1;33m[\u001b[0m\u001b[0mk\u001b[0m\u001b[1;33m]\u001b[0m \u001b[1;33m=\u001b[0m \u001b[0marg\u001b[0m\u001b[1;33m\u001b[0m\u001b[1;33m\u001b[0m\u001b[0m\n\u001b[1;32m--> 532\u001b[1;33m         \u001b[1;32mreturn\u001b[0m \u001b[0mf\u001b[0m\u001b[1;33m(\u001b[0m\u001b[1;33m**\u001b[0m\u001b[0mkwargs\u001b[0m\u001b[1;33m)\u001b[0m\u001b[1;33m\u001b[0m\u001b[1;33m\u001b[0m\u001b[0m\n\u001b[0m\u001b[0;32m    533\u001b[0m \u001b[1;33m\u001b[0m\u001b[0m\n\u001b[0;32m    534\u001b[0m     \u001b[1;32mreturn\u001b[0m \u001b[0minner_f\u001b[0m\u001b[1;33m\u001b[0m\u001b[1;33m\u001b[0m\u001b[0m\n",
      "\u001b[1;32m~\\AppData\\Roaming\\Python\\Python39\\site-packages\\xgboost\\sklearn.py\u001b[0m in \u001b[0;36mfit\u001b[1;34m(self, X, y, sample_weight, base_margin, eval_set, eval_metric, early_stopping_rounds, verbose, xgb_model, sample_weight_eval_set, base_margin_eval_set, feature_weights, callbacks)\u001b[0m\n\u001b[0;32m   1355\u001b[0m             \u001b[1;32mor\u001b[0m \u001b[1;32mnot\u001b[0m \u001b[1;33m(\u001b[0m\u001b[0mself\u001b[0m\u001b[1;33m.\u001b[0m\u001b[0mclasses_\u001b[0m \u001b[1;33m==\u001b[0m \u001b[0mexpected_classes\u001b[0m\u001b[1;33m)\u001b[0m\u001b[1;33m.\u001b[0m\u001b[0mall\u001b[0m\u001b[1;33m(\u001b[0m\u001b[1;33m)\u001b[0m\u001b[1;33m\u001b[0m\u001b[1;33m\u001b[0m\u001b[0m\n\u001b[0;32m   1356\u001b[0m         ):\n\u001b[1;32m-> 1357\u001b[1;33m             raise ValueError(\n\u001b[0m\u001b[0;32m   1358\u001b[0m                 \u001b[1;34mf\"Invalid classes inferred from unique values of `y`.  \"\u001b[0m\u001b[1;33m\u001b[0m\u001b[1;33m\u001b[0m\u001b[0m\n\u001b[0;32m   1359\u001b[0m                 \u001b[1;34mf\"Expected: {expected_classes}, got {self.classes_}\"\u001b[0m\u001b[1;33m\u001b[0m\u001b[1;33m\u001b[0m\u001b[0m\n",
      "\u001b[1;31mValueError\u001b[0m: Invalid classes inferred from unique values of `y`.  Expected: [ 0  1  2  3  4  5  6  7  8  9 10 11 12 13 14 15 16 17 18 19 20 21 22 23\n 24 25 26 27 28 29 30 31 32 33 34 35 36 37 38 39 40 41 42 43 44 45 46 47\n 48 49 50 51 52 53 54 55 56 57 58 59 60 61 62 63 64 65 66 67 68 69 70 71\n 72 73 74 75 76 77 78 79], got [ 0  1  2  3  5  6  7  8  9 10 11 12 13 14 15 16 17 18 19 20 21 22 23 24\n 25 26 27 28 29 30 31 32 33 34 35 36 37 38 39 40 41 42 43 44 45 46 47 48\n 49 50 51 52 53 54 55 56 57 58 59 60 61 62 63 64 65 66 67 68 69 70 71 72\n 73 74 75 76 77 78 79 80]"
     ]
    }
   ],
   "source": [
    "from xgboost import XGBClassifier \n",
    "model=XGBClassifier()\n",
    "model.fit(final_train,y_train[:-1])"
   ]
  },
  {
   "cell_type": "code",
   "execution_count": null,
   "id": "73f00731",
   "metadata": {},
   "outputs": [],
   "source": []
  },
  {
   "cell_type": "code",
   "execution_count": null,
   "id": "ea5197b4",
   "metadata": {},
   "outputs": [],
   "source": []
  },
  {
   "cell_type": "code",
   "execution_count": null,
   "id": "f0142314",
   "metadata": {},
   "outputs": [],
   "source": []
  }
 ],
 "metadata": {
  "kernelspec": {
   "display_name": "Python 3 (ipykernel)",
   "language": "python",
   "name": "python3"
  },
  "language_info": {
   "codemirror_mode": {
    "name": "ipython",
    "version": 3
   },
   "file_extension": ".py",
   "mimetype": "text/x-python",
   "name": "python",
   "nbconvert_exporter": "python",
   "pygments_lexer": "ipython3",
   "version": "3.9.12"
  }
 },
 "nbformat": 4,
 "nbformat_minor": 5
}
